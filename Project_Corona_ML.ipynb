{
 "cells": [
  {
   "cell_type": "code",
   "execution_count": 1,
   "id": "1c548d0c",
   "metadata": {},
   "outputs": [],
   "source": [
    "import numpy as np\n",
    "import pandas as pd\n",
    "import seaborn as sns\n",
    "import matplotlib.pyplot as plt\n",
    "\n",
    "from sklearn.tree import DecisionTreeClassifier\n",
    "from sklearn.preprocessing import LabelEncoder\n",
    "from sklearn.preprocessing import StandardScaler\n",
    "from sklearn.model_selection import train_test_split\n",
    "from sklearn.linear_model import LogisticRegression\n",
    "import sklearn.metrics as metrics\n",
    "\n",
    "from imblearn.over_sampling import RandomOverSampler\n",
    "from sklearn.metrics import confusion_matrix, ConfusionMatrixDisplay"
   ]
  },
  {
   "cell_type": "code",
   "execution_count": 2,
   "id": "bf3d6a65",
   "metadata": {
    "scrolled": true
   },
   "outputs": [
    {
     "name": "stderr",
     "output_type": "stream",
     "text": [
      "C:\\Users\\Lenovo\\AppData\\Local\\Temp\\ipykernel_40076\\1245587404.py:1: DtypeWarning: Columns (2,3,4,5,6) have mixed types. Specify dtype option on import or set low_memory=False.\n",
      "  data = pd.read_csv('corona_tested_006.csv')\n"
     ]
    }
   ],
   "source": [
    "data = pd.read_csv('corona_tested_006.csv')"
   ]
  },
  {
   "cell_type": "code",
   "execution_count": 3,
   "id": "9d4beee8",
   "metadata": {},
   "outputs": [
    {
     "data": {
      "text/html": [
       "<div>\n",
       "<style scoped>\n",
       "    .dataframe tbody tr th:only-of-type {\n",
       "        vertical-align: middle;\n",
       "    }\n",
       "\n",
       "    .dataframe tbody tr th {\n",
       "        vertical-align: top;\n",
       "    }\n",
       "\n",
       "    .dataframe thead th {\n",
       "        text-align: right;\n",
       "    }\n",
       "</style>\n",
       "<table border=\"1\" class=\"dataframe\">\n",
       "  <thead>\n",
       "    <tr style=\"text-align: right;\">\n",
       "      <th></th>\n",
       "      <th>Ind_ID</th>\n",
       "      <th>Test_date</th>\n",
       "      <th>Cough_symptoms</th>\n",
       "      <th>Fever</th>\n",
       "      <th>Sore_throat</th>\n",
       "      <th>Shortness_of_breath</th>\n",
       "      <th>Headache</th>\n",
       "      <th>Corona</th>\n",
       "      <th>Age_60_above</th>\n",
       "      <th>Sex</th>\n",
       "      <th>Known_contact</th>\n",
       "    </tr>\n",
       "  </thead>\n",
       "  <tbody>\n",
       "    <tr>\n",
       "      <th>0</th>\n",
       "      <td>1</td>\n",
       "      <td>11-03-2020</td>\n",
       "      <td>TRUE</td>\n",
       "      <td>FALSE</td>\n",
       "      <td>TRUE</td>\n",
       "      <td>FALSE</td>\n",
       "      <td>FALSE</td>\n",
       "      <td>negative</td>\n",
       "      <td>None</td>\n",
       "      <td>None</td>\n",
       "      <td>Abroad</td>\n",
       "    </tr>\n",
       "    <tr>\n",
       "      <th>1</th>\n",
       "      <td>2</td>\n",
       "      <td>11-03-2020</td>\n",
       "      <td>FALSE</td>\n",
       "      <td>TRUE</td>\n",
       "      <td>FALSE</td>\n",
       "      <td>FALSE</td>\n",
       "      <td>FALSE</td>\n",
       "      <td>positive</td>\n",
       "      <td>None</td>\n",
       "      <td>None</td>\n",
       "      <td>Abroad</td>\n",
       "    </tr>\n",
       "    <tr>\n",
       "      <th>2</th>\n",
       "      <td>3</td>\n",
       "      <td>11-03-2020</td>\n",
       "      <td>FALSE</td>\n",
       "      <td>TRUE</td>\n",
       "      <td>FALSE</td>\n",
       "      <td>FALSE</td>\n",
       "      <td>FALSE</td>\n",
       "      <td>positive</td>\n",
       "      <td>None</td>\n",
       "      <td>None</td>\n",
       "      <td>Abroad</td>\n",
       "    </tr>\n",
       "    <tr>\n",
       "      <th>3</th>\n",
       "      <td>4</td>\n",
       "      <td>11-03-2020</td>\n",
       "      <td>TRUE</td>\n",
       "      <td>FALSE</td>\n",
       "      <td>FALSE</td>\n",
       "      <td>FALSE</td>\n",
       "      <td>FALSE</td>\n",
       "      <td>negative</td>\n",
       "      <td>None</td>\n",
       "      <td>None</td>\n",
       "      <td>Abroad</td>\n",
       "    </tr>\n",
       "    <tr>\n",
       "      <th>4</th>\n",
       "      <td>5</td>\n",
       "      <td>11-03-2020</td>\n",
       "      <td>TRUE</td>\n",
       "      <td>FALSE</td>\n",
       "      <td>FALSE</td>\n",
       "      <td>FALSE</td>\n",
       "      <td>FALSE</td>\n",
       "      <td>negative</td>\n",
       "      <td>None</td>\n",
       "      <td>None</td>\n",
       "      <td>Contact with confirmed</td>\n",
       "    </tr>\n",
       "    <tr>\n",
       "      <th>5</th>\n",
       "      <td>6</td>\n",
       "      <td>11-03-2020</td>\n",
       "      <td>TRUE</td>\n",
       "      <td>FALSE</td>\n",
       "      <td>FALSE</td>\n",
       "      <td>FALSE</td>\n",
       "      <td>FALSE</td>\n",
       "      <td>other</td>\n",
       "      <td>None</td>\n",
       "      <td>None</td>\n",
       "      <td>Contact with confirmed</td>\n",
       "    </tr>\n",
       "    <tr>\n",
       "      <th>6</th>\n",
       "      <td>7</td>\n",
       "      <td>11-03-2020</td>\n",
       "      <td>FALSE</td>\n",
       "      <td>FALSE</td>\n",
       "      <td>FALSE</td>\n",
       "      <td>FALSE</td>\n",
       "      <td>FALSE</td>\n",
       "      <td>negative</td>\n",
       "      <td>None</td>\n",
       "      <td>None</td>\n",
       "      <td>Other</td>\n",
       "    </tr>\n",
       "    <tr>\n",
       "      <th>7</th>\n",
       "      <td>8</td>\n",
       "      <td>11-03-2020</td>\n",
       "      <td>FALSE</td>\n",
       "      <td>TRUE</td>\n",
       "      <td>FALSE</td>\n",
       "      <td>FALSE</td>\n",
       "      <td>FALSE</td>\n",
       "      <td>negative</td>\n",
       "      <td>None</td>\n",
       "      <td>None</td>\n",
       "      <td>Abroad</td>\n",
       "    </tr>\n",
       "    <tr>\n",
       "      <th>8</th>\n",
       "      <td>9</td>\n",
       "      <td>11-03-2020</td>\n",
       "      <td>TRUE</td>\n",
       "      <td>FALSE</td>\n",
       "      <td>FALSE</td>\n",
       "      <td>FALSE</td>\n",
       "      <td>FALSE</td>\n",
       "      <td>negative</td>\n",
       "      <td>None</td>\n",
       "      <td>None</td>\n",
       "      <td>Abroad</td>\n",
       "    </tr>\n",
       "    <tr>\n",
       "      <th>9</th>\n",
       "      <td>10</td>\n",
       "      <td>11-03-2020</td>\n",
       "      <td>TRUE</td>\n",
       "      <td>FALSE</td>\n",
       "      <td>TRUE</td>\n",
       "      <td>FALSE</td>\n",
       "      <td>FALSE</td>\n",
       "      <td>negative</td>\n",
       "      <td>None</td>\n",
       "      <td>None</td>\n",
       "      <td>Abroad</td>\n",
       "    </tr>\n",
       "    <tr>\n",
       "      <th>10</th>\n",
       "      <td>11</td>\n",
       "      <td>11-03-2020</td>\n",
       "      <td>TRUE</td>\n",
       "      <td>FALSE</td>\n",
       "      <td>TRUE</td>\n",
       "      <td>FALSE</td>\n",
       "      <td>FALSE</td>\n",
       "      <td>negative</td>\n",
       "      <td>None</td>\n",
       "      <td>None</td>\n",
       "      <td>Abroad</td>\n",
       "    </tr>\n",
       "    <tr>\n",
       "      <th>11</th>\n",
       "      <td>12</td>\n",
       "      <td>11-03-2020</td>\n",
       "      <td>TRUE</td>\n",
       "      <td>FALSE</td>\n",
       "      <td>FALSE</td>\n",
       "      <td>FALSE</td>\n",
       "      <td>FALSE</td>\n",
       "      <td>negative</td>\n",
       "      <td>None</td>\n",
       "      <td>None</td>\n",
       "      <td>Abroad</td>\n",
       "    </tr>\n",
       "    <tr>\n",
       "      <th>12</th>\n",
       "      <td>13</td>\n",
       "      <td>11-03-2020</td>\n",
       "      <td>FALSE</td>\n",
       "      <td>TRUE</td>\n",
       "      <td>FALSE</td>\n",
       "      <td>FALSE</td>\n",
       "      <td>FALSE</td>\n",
       "      <td>negative</td>\n",
       "      <td>None</td>\n",
       "      <td>None</td>\n",
       "      <td>Other</td>\n",
       "    </tr>\n",
       "    <tr>\n",
       "      <th>13</th>\n",
       "      <td>14</td>\n",
       "      <td>11-03-2020</td>\n",
       "      <td>FALSE</td>\n",
       "      <td>FALSE</td>\n",
       "      <td>FALSE</td>\n",
       "      <td>TRUE</td>\n",
       "      <td>FALSE</td>\n",
       "      <td>negative</td>\n",
       "      <td>None</td>\n",
       "      <td>None</td>\n",
       "      <td>Abroad</td>\n",
       "    </tr>\n",
       "    <tr>\n",
       "      <th>14</th>\n",
       "      <td>15</td>\n",
       "      <td>11-03-2020</td>\n",
       "      <td>FALSE</td>\n",
       "      <td>FALSE</td>\n",
       "      <td>FALSE</td>\n",
       "      <td>FALSE</td>\n",
       "      <td>FALSE</td>\n",
       "      <td>negative</td>\n",
       "      <td>None</td>\n",
       "      <td>None</td>\n",
       "      <td>Other</td>\n",
       "    </tr>\n",
       "    <tr>\n",
       "      <th>15</th>\n",
       "      <td>16</td>\n",
       "      <td>11-03-2020</td>\n",
       "      <td>FALSE</td>\n",
       "      <td>FALSE</td>\n",
       "      <td>FALSE</td>\n",
       "      <td>FALSE</td>\n",
       "      <td>FALSE</td>\n",
       "      <td>negative</td>\n",
       "      <td>None</td>\n",
       "      <td>None</td>\n",
       "      <td>Abroad</td>\n",
       "    </tr>\n",
       "    <tr>\n",
       "      <th>16</th>\n",
       "      <td>17</td>\n",
       "      <td>11-03-2020</td>\n",
       "      <td>TRUE</td>\n",
       "      <td>FALSE</td>\n",
       "      <td>FALSE</td>\n",
       "      <td>FALSE</td>\n",
       "      <td>FALSE</td>\n",
       "      <td>negative</td>\n",
       "      <td>None</td>\n",
       "      <td>None</td>\n",
       "      <td>Abroad</td>\n",
       "    </tr>\n",
       "    <tr>\n",
       "      <th>17</th>\n",
       "      <td>18</td>\n",
       "      <td>11-03-2020</td>\n",
       "      <td>FALSE</td>\n",
       "      <td>TRUE</td>\n",
       "      <td>FALSE</td>\n",
       "      <td>FALSE</td>\n",
       "      <td>FALSE</td>\n",
       "      <td>negative</td>\n",
       "      <td>None</td>\n",
       "      <td>None</td>\n",
       "      <td>Abroad</td>\n",
       "    </tr>\n",
       "    <tr>\n",
       "      <th>18</th>\n",
       "      <td>19</td>\n",
       "      <td>11-03-2020</td>\n",
       "      <td>TRUE</td>\n",
       "      <td>FALSE</td>\n",
       "      <td>FALSE</td>\n",
       "      <td>TRUE</td>\n",
       "      <td>FALSE</td>\n",
       "      <td>negative</td>\n",
       "      <td>None</td>\n",
       "      <td>None</td>\n",
       "      <td>Abroad</td>\n",
       "    </tr>\n",
       "    <tr>\n",
       "      <th>19</th>\n",
       "      <td>20</td>\n",
       "      <td>11-03-2020</td>\n",
       "      <td>TRUE</td>\n",
       "      <td>FALSE</td>\n",
       "      <td>FALSE</td>\n",
       "      <td>TRUE</td>\n",
       "      <td>FALSE</td>\n",
       "      <td>negative</td>\n",
       "      <td>None</td>\n",
       "      <td>None</td>\n",
       "      <td>Abroad</td>\n",
       "    </tr>\n",
       "  </tbody>\n",
       "</table>\n",
       "</div>"
      ],
      "text/plain": [
       "    Ind_ID   Test_date Cough_symptoms  Fever Sore_throat Shortness_of_breath  \\\n",
       "0        1  11-03-2020           TRUE  FALSE        TRUE               FALSE   \n",
       "1        2  11-03-2020          FALSE   TRUE       FALSE               FALSE   \n",
       "2        3  11-03-2020          FALSE   TRUE       FALSE               FALSE   \n",
       "3        4  11-03-2020           TRUE  FALSE       FALSE               FALSE   \n",
       "4        5  11-03-2020           TRUE  FALSE       FALSE               FALSE   \n",
       "5        6  11-03-2020           TRUE  FALSE       FALSE               FALSE   \n",
       "6        7  11-03-2020          FALSE  FALSE       FALSE               FALSE   \n",
       "7        8  11-03-2020          FALSE   TRUE       FALSE               FALSE   \n",
       "8        9  11-03-2020           TRUE  FALSE       FALSE               FALSE   \n",
       "9       10  11-03-2020           TRUE  FALSE        TRUE               FALSE   \n",
       "10      11  11-03-2020           TRUE  FALSE        TRUE               FALSE   \n",
       "11      12  11-03-2020           TRUE  FALSE       FALSE               FALSE   \n",
       "12      13  11-03-2020          FALSE   TRUE       FALSE               FALSE   \n",
       "13      14  11-03-2020          FALSE  FALSE       FALSE                TRUE   \n",
       "14      15  11-03-2020          FALSE  FALSE       FALSE               FALSE   \n",
       "15      16  11-03-2020          FALSE  FALSE       FALSE               FALSE   \n",
       "16      17  11-03-2020           TRUE  FALSE       FALSE               FALSE   \n",
       "17      18  11-03-2020          FALSE   TRUE       FALSE               FALSE   \n",
       "18      19  11-03-2020           TRUE  FALSE       FALSE                TRUE   \n",
       "19      20  11-03-2020           TRUE  FALSE       FALSE                TRUE   \n",
       "\n",
       "   Headache    Corona Age_60_above   Sex           Known_contact  \n",
       "0     FALSE  negative         None  None                  Abroad  \n",
       "1     FALSE  positive         None  None                  Abroad  \n",
       "2     FALSE  positive         None  None                  Abroad  \n",
       "3     FALSE  negative         None  None                  Abroad  \n",
       "4     FALSE  negative         None  None  Contact with confirmed  \n",
       "5     FALSE     other         None  None  Contact with confirmed  \n",
       "6     FALSE  negative         None  None                   Other  \n",
       "7     FALSE  negative         None  None                  Abroad  \n",
       "8     FALSE  negative         None  None                  Abroad  \n",
       "9     FALSE  negative         None  None                  Abroad  \n",
       "10    FALSE  negative         None  None                  Abroad  \n",
       "11    FALSE  negative         None  None                  Abroad  \n",
       "12    FALSE  negative         None  None                   Other  \n",
       "13    FALSE  negative         None  None                  Abroad  \n",
       "14    FALSE  negative         None  None                   Other  \n",
       "15    FALSE  negative         None  None                  Abroad  \n",
       "16    FALSE  negative         None  None                  Abroad  \n",
       "17    FALSE  negative         None  None                  Abroad  \n",
       "18    FALSE  negative         None  None                  Abroad  \n",
       "19    FALSE  negative         None  None                  Abroad  "
      ]
     },
     "execution_count": 3,
     "metadata": {},
     "output_type": "execute_result"
    }
   ],
   "source": [
    "data.head(20)"
   ]
  },
  {
   "cell_type": "code",
   "execution_count": 4,
   "id": "aa7ce734",
   "metadata": {},
   "outputs": [
    {
     "data": {
      "text/html": [
       "<div>\n",
       "<style scoped>\n",
       "    .dataframe tbody tr th:only-of-type {\n",
       "        vertical-align: middle;\n",
       "    }\n",
       "\n",
       "    .dataframe tbody tr th {\n",
       "        vertical-align: top;\n",
       "    }\n",
       "\n",
       "    .dataframe thead th {\n",
       "        text-align: right;\n",
       "    }\n",
       "</style>\n",
       "<table border=\"1\" class=\"dataframe\">\n",
       "  <thead>\n",
       "    <tr style=\"text-align: right;\">\n",
       "      <th></th>\n",
       "      <th>Ind_ID</th>\n",
       "      <th>Test_date</th>\n",
       "      <th>Cough_symptoms</th>\n",
       "      <th>Fever</th>\n",
       "      <th>Sore_throat</th>\n",
       "      <th>Shortness_of_breath</th>\n",
       "      <th>Headache</th>\n",
       "      <th>Corona</th>\n",
       "      <th>Age_60_above</th>\n",
       "      <th>Sex</th>\n",
       "      <th>Known_contact</th>\n",
       "    </tr>\n",
       "  </thead>\n",
       "  <tbody>\n",
       "    <tr>\n",
       "      <th>278828</th>\n",
       "      <td>278829</td>\n",
       "      <td>30-04-2020</td>\n",
       "      <td>False</td>\n",
       "      <td>False</td>\n",
       "      <td>False</td>\n",
       "      <td>False</td>\n",
       "      <td>False</td>\n",
       "      <td>negative</td>\n",
       "      <td>None</td>\n",
       "      <td>male</td>\n",
       "      <td>Other</td>\n",
       "    </tr>\n",
       "    <tr>\n",
       "      <th>278829</th>\n",
       "      <td>278830</td>\n",
       "      <td>30-04-2020</td>\n",
       "      <td>False</td>\n",
       "      <td>False</td>\n",
       "      <td>False</td>\n",
       "      <td>False</td>\n",
       "      <td>False</td>\n",
       "      <td>negative</td>\n",
       "      <td>None</td>\n",
       "      <td>female</td>\n",
       "      <td>Other</td>\n",
       "    </tr>\n",
       "    <tr>\n",
       "      <th>278830</th>\n",
       "      <td>278831</td>\n",
       "      <td>30-04-2020</td>\n",
       "      <td>False</td>\n",
       "      <td>False</td>\n",
       "      <td>False</td>\n",
       "      <td>False</td>\n",
       "      <td>False</td>\n",
       "      <td>negative</td>\n",
       "      <td>None</td>\n",
       "      <td>male</td>\n",
       "      <td>Other</td>\n",
       "    </tr>\n",
       "    <tr>\n",
       "      <th>278831</th>\n",
       "      <td>278832</td>\n",
       "      <td>30-04-2020</td>\n",
       "      <td>False</td>\n",
       "      <td>False</td>\n",
       "      <td>False</td>\n",
       "      <td>False</td>\n",
       "      <td>False</td>\n",
       "      <td>negative</td>\n",
       "      <td>None</td>\n",
       "      <td>female</td>\n",
       "      <td>Other</td>\n",
       "    </tr>\n",
       "    <tr>\n",
       "      <th>278832</th>\n",
       "      <td>278833</td>\n",
       "      <td>30-04-2020</td>\n",
       "      <td>False</td>\n",
       "      <td>False</td>\n",
       "      <td>False</td>\n",
       "      <td>False</td>\n",
       "      <td>False</td>\n",
       "      <td>negative</td>\n",
       "      <td>None</td>\n",
       "      <td>male</td>\n",
       "      <td>Other</td>\n",
       "    </tr>\n",
       "    <tr>\n",
       "      <th>278833</th>\n",
       "      <td>278834</td>\n",
       "      <td>30-04-2020</td>\n",
       "      <td>False</td>\n",
       "      <td>False</td>\n",
       "      <td>False</td>\n",
       "      <td>False</td>\n",
       "      <td>False</td>\n",
       "      <td>negative</td>\n",
       "      <td>None</td>\n",
       "      <td>female</td>\n",
       "      <td>Other</td>\n",
       "    </tr>\n",
       "    <tr>\n",
       "      <th>278834</th>\n",
       "      <td>278835</td>\n",
       "      <td>30-04-2020</td>\n",
       "      <td>False</td>\n",
       "      <td>False</td>\n",
       "      <td>False</td>\n",
       "      <td>False</td>\n",
       "      <td>False</td>\n",
       "      <td>negative</td>\n",
       "      <td>None</td>\n",
       "      <td>male</td>\n",
       "      <td>Other</td>\n",
       "    </tr>\n",
       "    <tr>\n",
       "      <th>278835</th>\n",
       "      <td>278836</td>\n",
       "      <td>30-04-2020</td>\n",
       "      <td>False</td>\n",
       "      <td>False</td>\n",
       "      <td>False</td>\n",
       "      <td>False</td>\n",
       "      <td>False</td>\n",
       "      <td>negative</td>\n",
       "      <td>None</td>\n",
       "      <td>male</td>\n",
       "      <td>Other</td>\n",
       "    </tr>\n",
       "    <tr>\n",
       "      <th>278836</th>\n",
       "      <td>278837</td>\n",
       "      <td>30-04-2020</td>\n",
       "      <td>False</td>\n",
       "      <td>False</td>\n",
       "      <td>False</td>\n",
       "      <td>False</td>\n",
       "      <td>False</td>\n",
       "      <td>positive</td>\n",
       "      <td>None</td>\n",
       "      <td>None</td>\n",
       "      <td>Other</td>\n",
       "    </tr>\n",
       "    <tr>\n",
       "      <th>278837</th>\n",
       "      <td>278838</td>\n",
       "      <td>30-04-2020</td>\n",
       "      <td>False</td>\n",
       "      <td>False</td>\n",
       "      <td>False</td>\n",
       "      <td>False</td>\n",
       "      <td>False</td>\n",
       "      <td>negative</td>\n",
       "      <td>None</td>\n",
       "      <td>female</td>\n",
       "      <td>Other</td>\n",
       "    </tr>\n",
       "    <tr>\n",
       "      <th>278838</th>\n",
       "      <td>278839</td>\n",
       "      <td>30-04-2020</td>\n",
       "      <td>False</td>\n",
       "      <td>False</td>\n",
       "      <td>False</td>\n",
       "      <td>False</td>\n",
       "      <td>False</td>\n",
       "      <td>positive</td>\n",
       "      <td>None</td>\n",
       "      <td>male</td>\n",
       "      <td>Other</td>\n",
       "    </tr>\n",
       "    <tr>\n",
       "      <th>278839</th>\n",
       "      <td>278840</td>\n",
       "      <td>30-04-2020</td>\n",
       "      <td>False</td>\n",
       "      <td>False</td>\n",
       "      <td>False</td>\n",
       "      <td>False</td>\n",
       "      <td>False</td>\n",
       "      <td>positive</td>\n",
       "      <td>None</td>\n",
       "      <td>male</td>\n",
       "      <td>Other</td>\n",
       "    </tr>\n",
       "    <tr>\n",
       "      <th>278840</th>\n",
       "      <td>278841</td>\n",
       "      <td>30-04-2020</td>\n",
       "      <td>False</td>\n",
       "      <td>False</td>\n",
       "      <td>False</td>\n",
       "      <td>False</td>\n",
       "      <td>False</td>\n",
       "      <td>negative</td>\n",
       "      <td>None</td>\n",
       "      <td>male</td>\n",
       "      <td>Other</td>\n",
       "    </tr>\n",
       "    <tr>\n",
       "      <th>278841</th>\n",
       "      <td>278842</td>\n",
       "      <td>30-04-2020</td>\n",
       "      <td>False</td>\n",
       "      <td>False</td>\n",
       "      <td>False</td>\n",
       "      <td>False</td>\n",
       "      <td>False</td>\n",
       "      <td>negative</td>\n",
       "      <td>None</td>\n",
       "      <td>male</td>\n",
       "      <td>Other</td>\n",
       "    </tr>\n",
       "    <tr>\n",
       "      <th>278842</th>\n",
       "      <td>278843</td>\n",
       "      <td>30-04-2020</td>\n",
       "      <td>False</td>\n",
       "      <td>False</td>\n",
       "      <td>False</td>\n",
       "      <td>False</td>\n",
       "      <td>False</td>\n",
       "      <td>positive</td>\n",
       "      <td>None</td>\n",
       "      <td>None</td>\n",
       "      <td>Other</td>\n",
       "    </tr>\n",
       "    <tr>\n",
       "      <th>278843</th>\n",
       "      <td>278844</td>\n",
       "      <td>30-04-2020</td>\n",
       "      <td>False</td>\n",
       "      <td>False</td>\n",
       "      <td>False</td>\n",
       "      <td>False</td>\n",
       "      <td>False</td>\n",
       "      <td>positive</td>\n",
       "      <td>None</td>\n",
       "      <td>male</td>\n",
       "      <td>Other</td>\n",
       "    </tr>\n",
       "    <tr>\n",
       "      <th>278844</th>\n",
       "      <td>278845</td>\n",
       "      <td>30-04-2020</td>\n",
       "      <td>False</td>\n",
       "      <td>False</td>\n",
       "      <td>False</td>\n",
       "      <td>False</td>\n",
       "      <td>False</td>\n",
       "      <td>negative</td>\n",
       "      <td>None</td>\n",
       "      <td>female</td>\n",
       "      <td>Other</td>\n",
       "    </tr>\n",
       "    <tr>\n",
       "      <th>278845</th>\n",
       "      <td>278846</td>\n",
       "      <td>30-04-2020</td>\n",
       "      <td>False</td>\n",
       "      <td>False</td>\n",
       "      <td>False</td>\n",
       "      <td>False</td>\n",
       "      <td>False</td>\n",
       "      <td>negative</td>\n",
       "      <td>None</td>\n",
       "      <td>male</td>\n",
       "      <td>Other</td>\n",
       "    </tr>\n",
       "    <tr>\n",
       "      <th>278846</th>\n",
       "      <td>278847</td>\n",
       "      <td>30-04-2020</td>\n",
       "      <td>False</td>\n",
       "      <td>False</td>\n",
       "      <td>False</td>\n",
       "      <td>False</td>\n",
       "      <td>False</td>\n",
       "      <td>negative</td>\n",
       "      <td>None</td>\n",
       "      <td>male</td>\n",
       "      <td>Other</td>\n",
       "    </tr>\n",
       "    <tr>\n",
       "      <th>278847</th>\n",
       "      <td>278848</td>\n",
       "      <td>30-04-2020</td>\n",
       "      <td>False</td>\n",
       "      <td>False</td>\n",
       "      <td>False</td>\n",
       "      <td>False</td>\n",
       "      <td>False</td>\n",
       "      <td>negative</td>\n",
       "      <td>None</td>\n",
       "      <td>female</td>\n",
       "      <td>Other</td>\n",
       "    </tr>\n",
       "  </tbody>\n",
       "</table>\n",
       "</div>"
      ],
      "text/plain": [
       "        Ind_ID   Test_date Cough_symptoms  Fever Sore_throat  \\\n",
       "278828  278829  30-04-2020          False  False       False   \n",
       "278829  278830  30-04-2020          False  False       False   \n",
       "278830  278831  30-04-2020          False  False       False   \n",
       "278831  278832  30-04-2020          False  False       False   \n",
       "278832  278833  30-04-2020          False  False       False   \n",
       "278833  278834  30-04-2020          False  False       False   \n",
       "278834  278835  30-04-2020          False  False       False   \n",
       "278835  278836  30-04-2020          False  False       False   \n",
       "278836  278837  30-04-2020          False  False       False   \n",
       "278837  278838  30-04-2020          False  False       False   \n",
       "278838  278839  30-04-2020          False  False       False   \n",
       "278839  278840  30-04-2020          False  False       False   \n",
       "278840  278841  30-04-2020          False  False       False   \n",
       "278841  278842  30-04-2020          False  False       False   \n",
       "278842  278843  30-04-2020          False  False       False   \n",
       "278843  278844  30-04-2020          False  False       False   \n",
       "278844  278845  30-04-2020          False  False       False   \n",
       "278845  278846  30-04-2020          False  False       False   \n",
       "278846  278847  30-04-2020          False  False       False   \n",
       "278847  278848  30-04-2020          False  False       False   \n",
       "\n",
       "       Shortness_of_breath Headache    Corona Age_60_above     Sex  \\\n",
       "278828               False    False  negative         None    male   \n",
       "278829               False    False  negative         None  female   \n",
       "278830               False    False  negative         None    male   \n",
       "278831               False    False  negative         None  female   \n",
       "278832               False    False  negative         None    male   \n",
       "278833               False    False  negative         None  female   \n",
       "278834               False    False  negative         None    male   \n",
       "278835               False    False  negative         None    male   \n",
       "278836               False    False  positive         None    None   \n",
       "278837               False    False  negative         None  female   \n",
       "278838               False    False  positive         None    male   \n",
       "278839               False    False  positive         None    male   \n",
       "278840               False    False  negative         None    male   \n",
       "278841               False    False  negative         None    male   \n",
       "278842               False    False  positive         None    None   \n",
       "278843               False    False  positive         None    male   \n",
       "278844               False    False  negative         None  female   \n",
       "278845               False    False  negative         None    male   \n",
       "278846               False    False  negative         None    male   \n",
       "278847               False    False  negative         None  female   \n",
       "\n",
       "       Known_contact  \n",
       "278828         Other  \n",
       "278829         Other  \n",
       "278830         Other  \n",
       "278831         Other  \n",
       "278832         Other  \n",
       "278833         Other  \n",
       "278834         Other  \n",
       "278835         Other  \n",
       "278836         Other  \n",
       "278837         Other  \n",
       "278838         Other  \n",
       "278839         Other  \n",
       "278840         Other  \n",
       "278841         Other  \n",
       "278842         Other  \n",
       "278843         Other  \n",
       "278844         Other  \n",
       "278845         Other  \n",
       "278846         Other  \n",
       "278847         Other  "
      ]
     },
     "execution_count": 4,
     "metadata": {},
     "output_type": "execute_result"
    }
   ],
   "source": [
    "data.tail(20)"
   ]
  },
  {
   "cell_type": "code",
   "execution_count": 5,
   "id": "29c4e43e",
   "metadata": {},
   "outputs": [
    {
     "data": {
      "text/plain": [
       "None    127320\n",
       "No      125703\n",
       "Yes      25825\n",
       "Name: Age_60_above, dtype: int64"
      ]
     },
     "execution_count": 5,
     "metadata": {},
     "output_type": "execute_result"
    }
   ],
   "source": [
    "data['Age_60_above'].value_counts()"
   ]
  },
  {
   "cell_type": "markdown",
   "id": "6ec81e63",
   "metadata": {},
   "source": [
    "      NOTE: Here Age_60_above has 127320 values as 'None', which is ambigious. Age can either be <60 or >60. We cannot \n",
    "      confirm if the age is exactly 60 either, if we do that, then we should confirm the exact age of every individual.\n",
    "      Hence, choosing to discard this Column for model evaluation."
   ]
  },
  {
   "cell_type": "code",
   "execution_count": 6,
   "id": "56271138",
   "metadata": {},
   "outputs": [
    {
     "data": {
      "text/plain": [
       "female    46.677043\n",
       "male      46.307307\n",
       "None       7.015650\n",
       "Name: Sex, dtype: float64"
      ]
     },
     "execution_count": 6,
     "metadata": {},
     "output_type": "execute_result"
    }
   ],
   "source": [
    "data['Sex'].value_counts(normalize=True)*100"
   ]
  },
  {
   "cell_type": "markdown",
   "id": "1e10a053",
   "metadata": {},
   "source": [
    "    Note: The 'Sex' column has about 7% data, which is unknown. Adding 'Sex' as a parameter in Covid - detection might \n",
    "    have ethical, cultural and technical implications. Hence choosing not to use this Column for model evaluation. "
   ]
  },
  {
   "cell_type": "code",
   "execution_count": 7,
   "id": "67488176",
   "metadata": {},
   "outputs": [
    {
     "data": {
      "text/plain": [
       "Other                     87.051368\n",
       "Abroad                     9.133291\n",
       "Contact with confirmed     3.815340\n",
       "Name: Known_contact, dtype: float64"
      ]
     },
     "execution_count": 7,
     "metadata": {},
     "output_type": "execute_result"
    }
   ],
   "source": [
    "data['Known_contact'].value_counts(normalize=True)*100"
   ]
  },
  {
   "cell_type": "markdown",
   "id": "b78327e5",
   "metadata": {},
   "source": [
    "      Note: The 'Known_contact' has 87% data that has 'Other' Label, choosing to discard this column for model evaluation,\n",
    "      as the data is heavily biased to the 'other' label."
   ]
  },
  {
   "cell_type": "markdown",
   "id": "8c8f532e",
   "metadata": {},
   "source": [
    "# Data Cleaning"
   ]
  },
  {
   "cell_type": "code",
   "execution_count": null,
   "id": "5ff18bf7",
   "metadata": {},
   "outputs": [],
   "source": []
  },
  {
   "cell_type": "code",
   "execution_count": 8,
   "id": "8f562b73",
   "metadata": {},
   "outputs": [
    {
     "data": {
      "text/html": [
       "<div>\n",
       "<style scoped>\n",
       "    .dataframe tbody tr th:only-of-type {\n",
       "        vertical-align: middle;\n",
       "    }\n",
       "\n",
       "    .dataframe tbody tr th {\n",
       "        vertical-align: top;\n",
       "    }\n",
       "\n",
       "    .dataframe thead th {\n",
       "        text-align: right;\n",
       "    }\n",
       "</style>\n",
       "<table border=\"1\" class=\"dataframe\">\n",
       "  <thead>\n",
       "    <tr style=\"text-align: right;\">\n",
       "      <th></th>\n",
       "      <th>Ind_ID</th>\n",
       "      <th>Test_date</th>\n",
       "      <th>Cough_symptoms</th>\n",
       "      <th>Fever</th>\n",
       "      <th>Sore_throat</th>\n",
       "      <th>Shortness_of_breath</th>\n",
       "      <th>Headache</th>\n",
       "      <th>Corona</th>\n",
       "      <th>Age_60_above</th>\n",
       "      <th>Sex</th>\n",
       "      <th>Known_contact</th>\n",
       "    </tr>\n",
       "  </thead>\n",
       "  <tbody>\n",
       "    <tr>\n",
       "      <th>0</th>\n",
       "      <td>1</td>\n",
       "      <td>11-03-2020</td>\n",
       "      <td>TRUE</td>\n",
       "      <td>FALSE</td>\n",
       "      <td>TRUE</td>\n",
       "      <td>FALSE</td>\n",
       "      <td>FALSE</td>\n",
       "      <td>negative</td>\n",
       "      <td>None</td>\n",
       "      <td>None</td>\n",
       "      <td>Abroad</td>\n",
       "    </tr>\n",
       "    <tr>\n",
       "      <th>1</th>\n",
       "      <td>2</td>\n",
       "      <td>11-03-2020</td>\n",
       "      <td>FALSE</td>\n",
       "      <td>TRUE</td>\n",
       "      <td>FALSE</td>\n",
       "      <td>FALSE</td>\n",
       "      <td>FALSE</td>\n",
       "      <td>positive</td>\n",
       "      <td>None</td>\n",
       "      <td>None</td>\n",
       "      <td>Abroad</td>\n",
       "    </tr>\n",
       "    <tr>\n",
       "      <th>2</th>\n",
       "      <td>3</td>\n",
       "      <td>11-03-2020</td>\n",
       "      <td>FALSE</td>\n",
       "      <td>TRUE</td>\n",
       "      <td>FALSE</td>\n",
       "      <td>FALSE</td>\n",
       "      <td>FALSE</td>\n",
       "      <td>positive</td>\n",
       "      <td>None</td>\n",
       "      <td>None</td>\n",
       "      <td>Abroad</td>\n",
       "    </tr>\n",
       "    <tr>\n",
       "      <th>3</th>\n",
       "      <td>4</td>\n",
       "      <td>11-03-2020</td>\n",
       "      <td>TRUE</td>\n",
       "      <td>FALSE</td>\n",
       "      <td>FALSE</td>\n",
       "      <td>FALSE</td>\n",
       "      <td>FALSE</td>\n",
       "      <td>negative</td>\n",
       "      <td>None</td>\n",
       "      <td>None</td>\n",
       "      <td>Abroad</td>\n",
       "    </tr>\n",
       "    <tr>\n",
       "      <th>4</th>\n",
       "      <td>5</td>\n",
       "      <td>11-03-2020</td>\n",
       "      <td>TRUE</td>\n",
       "      <td>FALSE</td>\n",
       "      <td>FALSE</td>\n",
       "      <td>FALSE</td>\n",
       "      <td>FALSE</td>\n",
       "      <td>negative</td>\n",
       "      <td>None</td>\n",
       "      <td>None</td>\n",
       "      <td>Contact with confirmed</td>\n",
       "    </tr>\n",
       "  </tbody>\n",
       "</table>\n",
       "</div>"
      ],
      "text/plain": [
       "   Ind_ID   Test_date Cough_symptoms  Fever Sore_throat Shortness_of_breath  \\\n",
       "0       1  11-03-2020           TRUE  FALSE        TRUE               FALSE   \n",
       "1       2  11-03-2020          FALSE   TRUE       FALSE               FALSE   \n",
       "2       3  11-03-2020          FALSE   TRUE       FALSE               FALSE   \n",
       "3       4  11-03-2020           TRUE  FALSE       FALSE               FALSE   \n",
       "4       5  11-03-2020           TRUE  FALSE       FALSE               FALSE   \n",
       "\n",
       "  Headache    Corona Age_60_above   Sex           Known_contact  \n",
       "0    FALSE  negative         None  None                  Abroad  \n",
       "1    FALSE  positive         None  None                  Abroad  \n",
       "2    FALSE  positive         None  None                  Abroad  \n",
       "3    FALSE  negative         None  None                  Abroad  \n",
       "4    FALSE  negative         None  None  Contact with confirmed  "
      ]
     },
     "execution_count": 8,
     "metadata": {},
     "output_type": "execute_result"
    }
   ],
   "source": [
    "data.head()"
   ]
  },
  {
   "cell_type": "code",
   "execution_count": 9,
   "id": "0d423210",
   "metadata": {},
   "outputs": [
    {
     "data": {
      "text/html": [
       "<div>\n",
       "<style scoped>\n",
       "    .dataframe tbody tr th:only-of-type {\n",
       "        vertical-align: middle;\n",
       "    }\n",
       "\n",
       "    .dataframe tbody tr th {\n",
       "        vertical-align: top;\n",
       "    }\n",
       "\n",
       "    .dataframe thead th {\n",
       "        text-align: right;\n",
       "    }\n",
       "</style>\n",
       "<table border=\"1\" class=\"dataframe\">\n",
       "  <thead>\n",
       "    <tr style=\"text-align: right;\">\n",
       "      <th></th>\n",
       "      <th>Ind_ID</th>\n",
       "      <th>Test_date</th>\n",
       "      <th>Cough_symptoms</th>\n",
       "      <th>Fever</th>\n",
       "      <th>Sore_throat</th>\n",
       "      <th>Shortness_of_breath</th>\n",
       "      <th>Headache</th>\n",
       "      <th>Corona</th>\n",
       "      <th>Age_60_above</th>\n",
       "      <th>Sex</th>\n",
       "      <th>Known_contact</th>\n",
       "    </tr>\n",
       "  </thead>\n",
       "  <tbody>\n",
       "    <tr>\n",
       "      <th>278843</th>\n",
       "      <td>278844</td>\n",
       "      <td>30-04-2020</td>\n",
       "      <td>False</td>\n",
       "      <td>False</td>\n",
       "      <td>False</td>\n",
       "      <td>False</td>\n",
       "      <td>False</td>\n",
       "      <td>positive</td>\n",
       "      <td>None</td>\n",
       "      <td>male</td>\n",
       "      <td>Other</td>\n",
       "    </tr>\n",
       "    <tr>\n",
       "      <th>278844</th>\n",
       "      <td>278845</td>\n",
       "      <td>30-04-2020</td>\n",
       "      <td>False</td>\n",
       "      <td>False</td>\n",
       "      <td>False</td>\n",
       "      <td>False</td>\n",
       "      <td>False</td>\n",
       "      <td>negative</td>\n",
       "      <td>None</td>\n",
       "      <td>female</td>\n",
       "      <td>Other</td>\n",
       "    </tr>\n",
       "    <tr>\n",
       "      <th>278845</th>\n",
       "      <td>278846</td>\n",
       "      <td>30-04-2020</td>\n",
       "      <td>False</td>\n",
       "      <td>False</td>\n",
       "      <td>False</td>\n",
       "      <td>False</td>\n",
       "      <td>False</td>\n",
       "      <td>negative</td>\n",
       "      <td>None</td>\n",
       "      <td>male</td>\n",
       "      <td>Other</td>\n",
       "    </tr>\n",
       "    <tr>\n",
       "      <th>278846</th>\n",
       "      <td>278847</td>\n",
       "      <td>30-04-2020</td>\n",
       "      <td>False</td>\n",
       "      <td>False</td>\n",
       "      <td>False</td>\n",
       "      <td>False</td>\n",
       "      <td>False</td>\n",
       "      <td>negative</td>\n",
       "      <td>None</td>\n",
       "      <td>male</td>\n",
       "      <td>Other</td>\n",
       "    </tr>\n",
       "    <tr>\n",
       "      <th>278847</th>\n",
       "      <td>278848</td>\n",
       "      <td>30-04-2020</td>\n",
       "      <td>False</td>\n",
       "      <td>False</td>\n",
       "      <td>False</td>\n",
       "      <td>False</td>\n",
       "      <td>False</td>\n",
       "      <td>negative</td>\n",
       "      <td>None</td>\n",
       "      <td>female</td>\n",
       "      <td>Other</td>\n",
       "    </tr>\n",
       "  </tbody>\n",
       "</table>\n",
       "</div>"
      ],
      "text/plain": [
       "        Ind_ID   Test_date Cough_symptoms  Fever Sore_throat  \\\n",
       "278843  278844  30-04-2020          False  False       False   \n",
       "278844  278845  30-04-2020          False  False       False   \n",
       "278845  278846  30-04-2020          False  False       False   \n",
       "278846  278847  30-04-2020          False  False       False   \n",
       "278847  278848  30-04-2020          False  False       False   \n",
       "\n",
       "       Shortness_of_breath Headache    Corona Age_60_above     Sex  \\\n",
       "278843               False    False  positive         None    male   \n",
       "278844               False    False  negative         None  female   \n",
       "278845               False    False  negative         None    male   \n",
       "278846               False    False  negative         None    male   \n",
       "278847               False    False  negative         None  female   \n",
       "\n",
       "       Known_contact  \n",
       "278843         Other  \n",
       "278844         Other  \n",
       "278845         Other  \n",
       "278846         Other  \n",
       "278847         Other  "
      ]
     },
     "execution_count": 9,
     "metadata": {},
     "output_type": "execute_result"
    }
   ],
   "source": [
    "data.tail()"
   ]
  },
  {
   "cell_type": "code",
   "execution_count": 10,
   "id": "0b43d809",
   "metadata": {
    "scrolled": true
   },
   "outputs": [
    {
     "name": "stdout",
     "output_type": "stream",
     "text": [
      "<class 'pandas.core.frame.DataFrame'>\n",
      "RangeIndex: 278848 entries, 0 to 278847\n",
      "Data columns (total 11 columns):\n",
      " #   Column               Non-Null Count   Dtype \n",
      "---  ------               --------------   ----- \n",
      " 0   Ind_ID               278848 non-null  int64 \n",
      " 1   Test_date            278848 non-null  object\n",
      " 2   Cough_symptoms       278848 non-null  object\n",
      " 3   Fever                278848 non-null  object\n",
      " 4   Sore_throat          278848 non-null  object\n",
      " 5   Shortness_of_breath  278848 non-null  object\n",
      " 6   Headache             278848 non-null  object\n",
      " 7   Corona               278848 non-null  object\n",
      " 8   Age_60_above         278848 non-null  object\n",
      " 9   Sex                  278848 non-null  object\n",
      " 10  Known_contact        278848 non-null  object\n",
      "dtypes: int64(1), object(10)\n",
      "memory usage: 23.4+ MB\n"
     ]
    }
   ],
   "source": [
    "data.info()"
   ]
  },
  {
   "cell_type": "code",
   "execution_count": 11,
   "id": "f1f26dc0",
   "metadata": {},
   "outputs": [],
   "source": [
    "data['Test_date'] = pd.to_datetime(data['Test_date'], format='%d-%m-%Y')\n",
    "\n",
    "## Getting the month from Test_date feature\n",
    "data['Month'] = data['Test_date'].dt.month"
   ]
  },
  {
   "cell_type": "code",
   "execution_count": 12,
   "id": "8252a40f",
   "metadata": {
    "scrolled": true
   },
   "outputs": [],
   "source": [
    "## Uppercasing all the labels.\n",
    "data = data.apply(lambda x: x.astype(str).str.upper())\n"
   ]
  },
  {
   "cell_type": "code",
   "execution_count": 13,
   "id": "9528ddd1",
   "metadata": {},
   "outputs": [
    {
     "data": {
      "text/html": [
       "<div>\n",
       "<style scoped>\n",
       "    .dataframe tbody tr th:only-of-type {\n",
       "        vertical-align: middle;\n",
       "    }\n",
       "\n",
       "    .dataframe tbody tr th {\n",
       "        vertical-align: top;\n",
       "    }\n",
       "\n",
       "    .dataframe thead th {\n",
       "        text-align: right;\n",
       "    }\n",
       "</style>\n",
       "<table border=\"1\" class=\"dataframe\">\n",
       "  <thead>\n",
       "    <tr style=\"text-align: right;\">\n",
       "      <th></th>\n",
       "      <th>Ind_ID</th>\n",
       "      <th>Test_date</th>\n",
       "      <th>Cough_symptoms</th>\n",
       "      <th>Fever</th>\n",
       "      <th>Sore_throat</th>\n",
       "      <th>Shortness_of_breath</th>\n",
       "      <th>Headache</th>\n",
       "      <th>Corona</th>\n",
       "      <th>Age_60_above</th>\n",
       "      <th>Sex</th>\n",
       "      <th>Known_contact</th>\n",
       "      <th>Month</th>\n",
       "    </tr>\n",
       "  </thead>\n",
       "  <tbody>\n",
       "    <tr>\n",
       "      <th>0</th>\n",
       "      <td>1</td>\n",
       "      <td>2020-03-11</td>\n",
       "      <td>TRUE</td>\n",
       "      <td>FALSE</td>\n",
       "      <td>TRUE</td>\n",
       "      <td>FALSE</td>\n",
       "      <td>FALSE</td>\n",
       "      <td>NEGATIVE</td>\n",
       "      <td>NONE</td>\n",
       "      <td>NONE</td>\n",
       "      <td>ABROAD</td>\n",
       "      <td>3</td>\n",
       "    </tr>\n",
       "    <tr>\n",
       "      <th>1</th>\n",
       "      <td>2</td>\n",
       "      <td>2020-03-11</td>\n",
       "      <td>FALSE</td>\n",
       "      <td>TRUE</td>\n",
       "      <td>FALSE</td>\n",
       "      <td>FALSE</td>\n",
       "      <td>FALSE</td>\n",
       "      <td>POSITIVE</td>\n",
       "      <td>NONE</td>\n",
       "      <td>NONE</td>\n",
       "      <td>ABROAD</td>\n",
       "      <td>3</td>\n",
       "    </tr>\n",
       "    <tr>\n",
       "      <th>2</th>\n",
       "      <td>3</td>\n",
       "      <td>2020-03-11</td>\n",
       "      <td>FALSE</td>\n",
       "      <td>TRUE</td>\n",
       "      <td>FALSE</td>\n",
       "      <td>FALSE</td>\n",
       "      <td>FALSE</td>\n",
       "      <td>POSITIVE</td>\n",
       "      <td>NONE</td>\n",
       "      <td>NONE</td>\n",
       "      <td>ABROAD</td>\n",
       "      <td>3</td>\n",
       "    </tr>\n",
       "    <tr>\n",
       "      <th>3</th>\n",
       "      <td>4</td>\n",
       "      <td>2020-03-11</td>\n",
       "      <td>TRUE</td>\n",
       "      <td>FALSE</td>\n",
       "      <td>FALSE</td>\n",
       "      <td>FALSE</td>\n",
       "      <td>FALSE</td>\n",
       "      <td>NEGATIVE</td>\n",
       "      <td>NONE</td>\n",
       "      <td>NONE</td>\n",
       "      <td>ABROAD</td>\n",
       "      <td>3</td>\n",
       "    </tr>\n",
       "    <tr>\n",
       "      <th>4</th>\n",
       "      <td>5</td>\n",
       "      <td>2020-03-11</td>\n",
       "      <td>TRUE</td>\n",
       "      <td>FALSE</td>\n",
       "      <td>FALSE</td>\n",
       "      <td>FALSE</td>\n",
       "      <td>FALSE</td>\n",
       "      <td>NEGATIVE</td>\n",
       "      <td>NONE</td>\n",
       "      <td>NONE</td>\n",
       "      <td>CONTACT WITH CONFIRMED</td>\n",
       "      <td>3</td>\n",
       "    </tr>\n",
       "  </tbody>\n",
       "</table>\n",
       "</div>"
      ],
      "text/plain": [
       "  Ind_ID   Test_date Cough_symptoms  Fever Sore_throat Shortness_of_breath  \\\n",
       "0      1  2020-03-11           TRUE  FALSE        TRUE               FALSE   \n",
       "1      2  2020-03-11          FALSE   TRUE       FALSE               FALSE   \n",
       "2      3  2020-03-11          FALSE   TRUE       FALSE               FALSE   \n",
       "3      4  2020-03-11           TRUE  FALSE       FALSE               FALSE   \n",
       "4      5  2020-03-11           TRUE  FALSE       FALSE               FALSE   \n",
       "\n",
       "  Headache    Corona Age_60_above   Sex           Known_contact Month  \n",
       "0    FALSE  NEGATIVE         NONE  NONE                  ABROAD     3  \n",
       "1    FALSE  POSITIVE         NONE  NONE                  ABROAD     3  \n",
       "2    FALSE  POSITIVE         NONE  NONE                  ABROAD     3  \n",
       "3    FALSE  NEGATIVE         NONE  NONE                  ABROAD     3  \n",
       "4    FALSE  NEGATIVE         NONE  NONE  CONTACT WITH CONFIRMED     3  "
      ]
     },
     "execution_count": 13,
     "metadata": {},
     "output_type": "execute_result"
    }
   ],
   "source": [
    "data.head()"
   ]
  },
  {
   "cell_type": "code",
   "execution_count": 14,
   "id": "085702a3",
   "metadata": {},
   "outputs": [
    {
     "data": {
      "text/html": [
       "<div>\n",
       "<style scoped>\n",
       "    .dataframe tbody tr th:only-of-type {\n",
       "        vertical-align: middle;\n",
       "    }\n",
       "\n",
       "    .dataframe tbody tr th {\n",
       "        vertical-align: top;\n",
       "    }\n",
       "\n",
       "    .dataframe thead th {\n",
       "        text-align: right;\n",
       "    }\n",
       "</style>\n",
       "<table border=\"1\" class=\"dataframe\">\n",
       "  <thead>\n",
       "    <tr style=\"text-align: right;\">\n",
       "      <th></th>\n",
       "      <th>Ind_ID</th>\n",
       "      <th>Test_date</th>\n",
       "      <th>Cough_symptoms</th>\n",
       "      <th>Fever</th>\n",
       "      <th>Sore_throat</th>\n",
       "      <th>Shortness_of_breath</th>\n",
       "      <th>Headache</th>\n",
       "      <th>Corona</th>\n",
       "      <th>Age_60_above</th>\n",
       "      <th>Sex</th>\n",
       "      <th>Known_contact</th>\n",
       "      <th>Month</th>\n",
       "    </tr>\n",
       "  </thead>\n",
       "  <tbody>\n",
       "    <tr>\n",
       "      <th>278843</th>\n",
       "      <td>278844</td>\n",
       "      <td>2020-04-30</td>\n",
       "      <td>FALSE</td>\n",
       "      <td>FALSE</td>\n",
       "      <td>FALSE</td>\n",
       "      <td>FALSE</td>\n",
       "      <td>FALSE</td>\n",
       "      <td>POSITIVE</td>\n",
       "      <td>NONE</td>\n",
       "      <td>MALE</td>\n",
       "      <td>OTHER</td>\n",
       "      <td>4</td>\n",
       "    </tr>\n",
       "    <tr>\n",
       "      <th>278844</th>\n",
       "      <td>278845</td>\n",
       "      <td>2020-04-30</td>\n",
       "      <td>FALSE</td>\n",
       "      <td>FALSE</td>\n",
       "      <td>FALSE</td>\n",
       "      <td>FALSE</td>\n",
       "      <td>FALSE</td>\n",
       "      <td>NEGATIVE</td>\n",
       "      <td>NONE</td>\n",
       "      <td>FEMALE</td>\n",
       "      <td>OTHER</td>\n",
       "      <td>4</td>\n",
       "    </tr>\n",
       "    <tr>\n",
       "      <th>278845</th>\n",
       "      <td>278846</td>\n",
       "      <td>2020-04-30</td>\n",
       "      <td>FALSE</td>\n",
       "      <td>FALSE</td>\n",
       "      <td>FALSE</td>\n",
       "      <td>FALSE</td>\n",
       "      <td>FALSE</td>\n",
       "      <td>NEGATIVE</td>\n",
       "      <td>NONE</td>\n",
       "      <td>MALE</td>\n",
       "      <td>OTHER</td>\n",
       "      <td>4</td>\n",
       "    </tr>\n",
       "    <tr>\n",
       "      <th>278846</th>\n",
       "      <td>278847</td>\n",
       "      <td>2020-04-30</td>\n",
       "      <td>FALSE</td>\n",
       "      <td>FALSE</td>\n",
       "      <td>FALSE</td>\n",
       "      <td>FALSE</td>\n",
       "      <td>FALSE</td>\n",
       "      <td>NEGATIVE</td>\n",
       "      <td>NONE</td>\n",
       "      <td>MALE</td>\n",
       "      <td>OTHER</td>\n",
       "      <td>4</td>\n",
       "    </tr>\n",
       "    <tr>\n",
       "      <th>278847</th>\n",
       "      <td>278848</td>\n",
       "      <td>2020-04-30</td>\n",
       "      <td>FALSE</td>\n",
       "      <td>FALSE</td>\n",
       "      <td>FALSE</td>\n",
       "      <td>FALSE</td>\n",
       "      <td>FALSE</td>\n",
       "      <td>NEGATIVE</td>\n",
       "      <td>NONE</td>\n",
       "      <td>FEMALE</td>\n",
       "      <td>OTHER</td>\n",
       "      <td>4</td>\n",
       "    </tr>\n",
       "  </tbody>\n",
       "</table>\n",
       "</div>"
      ],
      "text/plain": [
       "        Ind_ID   Test_date Cough_symptoms  Fever Sore_throat  \\\n",
       "278843  278844  2020-04-30          FALSE  FALSE       FALSE   \n",
       "278844  278845  2020-04-30          FALSE  FALSE       FALSE   \n",
       "278845  278846  2020-04-30          FALSE  FALSE       FALSE   \n",
       "278846  278847  2020-04-30          FALSE  FALSE       FALSE   \n",
       "278847  278848  2020-04-30          FALSE  FALSE       FALSE   \n",
       "\n",
       "       Shortness_of_breath Headache    Corona Age_60_above     Sex  \\\n",
       "278843               FALSE    FALSE  POSITIVE         NONE    MALE   \n",
       "278844               FALSE    FALSE  NEGATIVE         NONE  FEMALE   \n",
       "278845               FALSE    FALSE  NEGATIVE         NONE    MALE   \n",
       "278846               FALSE    FALSE  NEGATIVE         NONE    MALE   \n",
       "278847               FALSE    FALSE  NEGATIVE         NONE  FEMALE   \n",
       "\n",
       "       Known_contact Month  \n",
       "278843         OTHER     4  \n",
       "278844         OTHER     4  \n",
       "278845         OTHER     4  \n",
       "278846         OTHER     4  \n",
       "278847         OTHER     4  "
      ]
     },
     "execution_count": 14,
     "metadata": {},
     "output_type": "execute_result"
    }
   ],
   "source": [
    "data.tail()"
   ]
  },
  {
   "cell_type": "code",
   "execution_count": 15,
   "id": "a29090ec",
   "metadata": {},
   "outputs": [],
   "source": [
    "data = data[data['Corona']!='OTHER']"
   ]
  },
  {
   "cell_type": "code",
   "execution_count": 16,
   "id": "4e511df9",
   "metadata": {},
   "outputs": [
    {
     "data": {
      "text/plain": [
       "NEGATIVE    260227\n",
       "POSITIVE     14729\n",
       "Name: Corona, dtype: int64"
      ]
     },
     "execution_count": 16,
     "metadata": {},
     "output_type": "execute_result"
    }
   ],
   "source": [
    "data['Corona'].value_counts()"
   ]
  },
  {
   "cell_type": "code",
   "execution_count": 17,
   "id": "9326fd2c",
   "metadata": {},
   "outputs": [],
   "source": [
    "data= data[data!='NONE']"
   ]
  },
  {
   "cell_type": "code",
   "execution_count": 18,
   "id": "e2e5454b",
   "metadata": {},
   "outputs": [
    {
     "data": {
      "text/plain": [
       "FALSE    233133\n",
       "TRUE      41571\n",
       "Name: Cough_symptoms, dtype: int64"
      ]
     },
     "execution_count": 18,
     "metadata": {},
     "output_type": "execute_result"
    }
   ],
   "source": [
    "data['Cough_symptoms'].value_counts()"
   ]
  },
  {
   "cell_type": "code",
   "execution_count": 19,
   "id": "bf20a5c0",
   "metadata": {},
   "outputs": [
    {
     "data": {
      "text/plain": [
       "FALSE    253329\n",
       "TRUE      21375\n",
       "Name: Fever, dtype: int64"
      ]
     },
     "execution_count": 19,
     "metadata": {},
     "output_type": "execute_result"
    }
   ],
   "source": [
    "data['Fever'].value_counts()"
   ]
  },
  {
   "cell_type": "code",
   "execution_count": 20,
   "id": "5f8c94a3",
   "metadata": {
    "scrolled": true
   },
   "outputs": [
    {
     "name": "stdout",
     "output_type": "stream",
     "text": [
      "<class 'pandas.core.frame.DataFrame'>\n",
      "Int64Index: 274956 entries, 0 to 278847\n",
      "Data columns (total 12 columns):\n",
      " #   Column               Non-Null Count   Dtype \n",
      "---  ------               --------------   ----- \n",
      " 0   Ind_ID               274956 non-null  object\n",
      " 1   Test_date            274956 non-null  object\n",
      " 2   Cough_symptoms       274704 non-null  object\n",
      " 3   Fever                274704 non-null  object\n",
      " 4   Sore_throat          274955 non-null  object\n",
      " 5   Shortness_of_breath  274955 non-null  object\n",
      " 6   Headache             274955 non-null  object\n",
      " 7   Corona               274956 non-null  object\n",
      " 8   Age_60_above         149292 non-null  object\n",
      " 9   Sex                  255911 non-null  object\n",
      " 10  Known_contact        274956 non-null  object\n",
      " 11  Month                274956 non-null  object\n",
      "dtypes: object(12)\n",
      "memory usage: 27.3+ MB\n"
     ]
    }
   ],
   "source": [
    "data.info()"
   ]
  },
  {
   "cell_type": "code",
   "execution_count": 21,
   "id": "b67b5218",
   "metadata": {},
   "outputs": [
    {
     "data": {
      "text/plain": [
       "(274956, 12)"
      ]
     },
     "execution_count": 21,
     "metadata": {},
     "output_type": "execute_result"
    }
   ],
   "source": [
    "data.shape"
   ]
  },
  {
   "cell_type": "code",
   "execution_count": 22,
   "id": "aeaa3ef1",
   "metadata": {},
   "outputs": [],
   "source": [
    "dt = data.reset_index()"
   ]
  },
  {
   "cell_type": "code",
   "execution_count": 23,
   "id": "50592bb7",
   "metadata": {},
   "outputs": [],
   "source": [
    "dt = dt.drop(['index'],axis=1)"
   ]
  },
  {
   "cell_type": "code",
   "execution_count": 24,
   "id": "74c1e3b9",
   "metadata": {
    "scrolled": true
   },
   "outputs": [
    {
     "data": {
      "text/html": [
       "<div>\n",
       "<style scoped>\n",
       "    .dataframe tbody tr th:only-of-type {\n",
       "        vertical-align: middle;\n",
       "    }\n",
       "\n",
       "    .dataframe tbody tr th {\n",
       "        vertical-align: top;\n",
       "    }\n",
       "\n",
       "    .dataframe thead th {\n",
       "        text-align: right;\n",
       "    }\n",
       "</style>\n",
       "<table border=\"1\" class=\"dataframe\">\n",
       "  <thead>\n",
       "    <tr style=\"text-align: right;\">\n",
       "      <th></th>\n",
       "      <th>Ind_ID</th>\n",
       "      <th>Test_date</th>\n",
       "      <th>Cough_symptoms</th>\n",
       "      <th>Fever</th>\n",
       "      <th>Sore_throat</th>\n",
       "      <th>Shortness_of_breath</th>\n",
       "      <th>Headache</th>\n",
       "      <th>Corona</th>\n",
       "      <th>Age_60_above</th>\n",
       "      <th>Sex</th>\n",
       "      <th>Known_contact</th>\n",
       "      <th>Month</th>\n",
       "    </tr>\n",
       "  </thead>\n",
       "  <tbody>\n",
       "    <tr>\n",
       "      <th>0</th>\n",
       "      <td>1</td>\n",
       "      <td>2020-03-11</td>\n",
       "      <td>TRUE</td>\n",
       "      <td>FALSE</td>\n",
       "      <td>TRUE</td>\n",
       "      <td>FALSE</td>\n",
       "      <td>FALSE</td>\n",
       "      <td>NEGATIVE</td>\n",
       "      <td>NaN</td>\n",
       "      <td>NaN</td>\n",
       "      <td>ABROAD</td>\n",
       "      <td>3</td>\n",
       "    </tr>\n",
       "    <tr>\n",
       "      <th>1</th>\n",
       "      <td>2</td>\n",
       "      <td>2020-03-11</td>\n",
       "      <td>FALSE</td>\n",
       "      <td>TRUE</td>\n",
       "      <td>FALSE</td>\n",
       "      <td>FALSE</td>\n",
       "      <td>FALSE</td>\n",
       "      <td>POSITIVE</td>\n",
       "      <td>NaN</td>\n",
       "      <td>NaN</td>\n",
       "      <td>ABROAD</td>\n",
       "      <td>3</td>\n",
       "    </tr>\n",
       "    <tr>\n",
       "      <th>2</th>\n",
       "      <td>3</td>\n",
       "      <td>2020-03-11</td>\n",
       "      <td>FALSE</td>\n",
       "      <td>TRUE</td>\n",
       "      <td>FALSE</td>\n",
       "      <td>FALSE</td>\n",
       "      <td>FALSE</td>\n",
       "      <td>POSITIVE</td>\n",
       "      <td>NaN</td>\n",
       "      <td>NaN</td>\n",
       "      <td>ABROAD</td>\n",
       "      <td>3</td>\n",
       "    </tr>\n",
       "    <tr>\n",
       "      <th>3</th>\n",
       "      <td>4</td>\n",
       "      <td>2020-03-11</td>\n",
       "      <td>TRUE</td>\n",
       "      <td>FALSE</td>\n",
       "      <td>FALSE</td>\n",
       "      <td>FALSE</td>\n",
       "      <td>FALSE</td>\n",
       "      <td>NEGATIVE</td>\n",
       "      <td>NaN</td>\n",
       "      <td>NaN</td>\n",
       "      <td>ABROAD</td>\n",
       "      <td>3</td>\n",
       "    </tr>\n",
       "    <tr>\n",
       "      <th>4</th>\n",
       "      <td>5</td>\n",
       "      <td>2020-03-11</td>\n",
       "      <td>TRUE</td>\n",
       "      <td>FALSE</td>\n",
       "      <td>FALSE</td>\n",
       "      <td>FALSE</td>\n",
       "      <td>FALSE</td>\n",
       "      <td>NEGATIVE</td>\n",
       "      <td>NaN</td>\n",
       "      <td>NaN</td>\n",
       "      <td>CONTACT WITH CONFIRMED</td>\n",
       "      <td>3</td>\n",
       "    </tr>\n",
       "  </tbody>\n",
       "</table>\n",
       "</div>"
      ],
      "text/plain": [
       "  Ind_ID   Test_date Cough_symptoms  Fever Sore_throat Shortness_of_breath  \\\n",
       "0      1  2020-03-11           TRUE  FALSE        TRUE               FALSE   \n",
       "1      2  2020-03-11          FALSE   TRUE       FALSE               FALSE   \n",
       "2      3  2020-03-11          FALSE   TRUE       FALSE               FALSE   \n",
       "3      4  2020-03-11           TRUE  FALSE       FALSE               FALSE   \n",
       "4      5  2020-03-11           TRUE  FALSE       FALSE               FALSE   \n",
       "\n",
       "  Headache    Corona Age_60_above  Sex           Known_contact Month  \n",
       "0    FALSE  NEGATIVE          NaN  NaN                  ABROAD     3  \n",
       "1    FALSE  POSITIVE          NaN  NaN                  ABROAD     3  \n",
       "2    FALSE  POSITIVE          NaN  NaN                  ABROAD     3  \n",
       "3    FALSE  NEGATIVE          NaN  NaN                  ABROAD     3  \n",
       "4    FALSE  NEGATIVE          NaN  NaN  CONTACT WITH CONFIRMED     3  "
      ]
     },
     "execution_count": 24,
     "metadata": {},
     "output_type": "execute_result"
    }
   ],
   "source": [
    "dt.head()"
   ]
  },
  {
   "cell_type": "code",
   "execution_count": 25,
   "id": "09139cf5",
   "metadata": {},
   "outputs": [],
   "source": [
    "dt2 = dt.copy()"
   ]
  },
  {
   "cell_type": "markdown",
   "id": "82beb3b2",
   "metadata": {},
   "source": [
    "\n",
    "\n",
    "Removing Unnecessary Columns from dt2. dt2 will be used for further model evaluations and dt will be used for SQL.\n",
    "\n"
   ]
  },
  {
   "cell_type": "code",
   "execution_count": 26,
   "id": "96a7a0c1",
   "metadata": {},
   "outputs": [],
   "source": [
    "dt2 = dt2.drop(['Ind_ID','Test_date','Age_60_above','Sex','Known_contact'],axis=1)"
   ]
  },
  {
   "cell_type": "markdown",
   "id": "728219e0",
   "metadata": {},
   "source": [
    "# Categorical Data: Need to convert to Numerical Data\n",
    "    Using cat.codes for encoding"
   ]
  },
  {
   "cell_type": "code",
   "execution_count": null,
   "id": "84bfeaf3",
   "metadata": {},
   "outputs": [],
   "source": []
  },
  {
   "cell_type": "code",
   "execution_count": 27,
   "id": "9fe1bcab",
   "metadata": {},
   "outputs": [],
   "source": [
    "## Converting all the datatypes to 'Category'\n",
    "dt2 = dt2.apply(lambda x:x.astype('category'))"
   ]
  },
  {
   "cell_type": "code",
   "execution_count": 28,
   "id": "3d44444c",
   "metadata": {},
   "outputs": [],
   "source": [
    "## Encoding the categorical data\n",
    "dt2 = dt2.apply(lambda x:x.cat.codes)"
   ]
  },
  {
   "cell_type": "code",
   "execution_count": 29,
   "id": "1e1adbf3",
   "metadata": {},
   "outputs": [
    {
     "data": {
      "text/html": [
       "<div>\n",
       "<style scoped>\n",
       "    .dataframe tbody tr th:only-of-type {\n",
       "        vertical-align: middle;\n",
       "    }\n",
       "\n",
       "    .dataframe tbody tr th {\n",
       "        vertical-align: top;\n",
       "    }\n",
       "\n",
       "    .dataframe thead th {\n",
       "        text-align: right;\n",
       "    }\n",
       "</style>\n",
       "<table border=\"1\" class=\"dataframe\">\n",
       "  <thead>\n",
       "    <tr style=\"text-align: right;\">\n",
       "      <th></th>\n",
       "      <th>Cough_symptoms</th>\n",
       "      <th>Fever</th>\n",
       "      <th>Sore_throat</th>\n",
       "      <th>Shortness_of_breath</th>\n",
       "      <th>Headache</th>\n",
       "      <th>Corona</th>\n",
       "      <th>Month</th>\n",
       "    </tr>\n",
       "  </thead>\n",
       "  <tbody>\n",
       "    <tr>\n",
       "      <th>0</th>\n",
       "      <td>1</td>\n",
       "      <td>0</td>\n",
       "      <td>1</td>\n",
       "      <td>0</td>\n",
       "      <td>0</td>\n",
       "      <td>0</td>\n",
       "      <td>0</td>\n",
       "    </tr>\n",
       "    <tr>\n",
       "      <th>1</th>\n",
       "      <td>0</td>\n",
       "      <td>1</td>\n",
       "      <td>0</td>\n",
       "      <td>0</td>\n",
       "      <td>0</td>\n",
       "      <td>1</td>\n",
       "      <td>0</td>\n",
       "    </tr>\n",
       "    <tr>\n",
       "      <th>2</th>\n",
       "      <td>0</td>\n",
       "      <td>1</td>\n",
       "      <td>0</td>\n",
       "      <td>0</td>\n",
       "      <td>0</td>\n",
       "      <td>1</td>\n",
       "      <td>0</td>\n",
       "    </tr>\n",
       "    <tr>\n",
       "      <th>3</th>\n",
       "      <td>1</td>\n",
       "      <td>0</td>\n",
       "      <td>0</td>\n",
       "      <td>0</td>\n",
       "      <td>0</td>\n",
       "      <td>0</td>\n",
       "      <td>0</td>\n",
       "    </tr>\n",
       "    <tr>\n",
       "      <th>4</th>\n",
       "      <td>1</td>\n",
       "      <td>0</td>\n",
       "      <td>0</td>\n",
       "      <td>0</td>\n",
       "      <td>0</td>\n",
       "      <td>0</td>\n",
       "      <td>0</td>\n",
       "    </tr>\n",
       "  </tbody>\n",
       "</table>\n",
       "</div>"
      ],
      "text/plain": [
       "   Cough_symptoms  Fever  Sore_throat  Shortness_of_breath  Headache  Corona  \\\n",
       "0               1      0            1                    0         0       0   \n",
       "1               0      1            0                    0         0       1   \n",
       "2               0      1            0                    0         0       1   \n",
       "3               1      0            0                    0         0       0   \n",
       "4               1      0            0                    0         0       0   \n",
       "\n",
       "   Month  \n",
       "0      0  \n",
       "1      0  \n",
       "2      0  \n",
       "3      0  \n",
       "4      0  "
      ]
     },
     "execution_count": 29,
     "metadata": {},
     "output_type": "execute_result"
    }
   ],
   "source": [
    "dt2.head()"
   ]
  },
  {
   "cell_type": "code",
   "execution_count": 30,
   "id": "c9137370",
   "metadata": {},
   "outputs": [
    {
     "data": {
      "text/html": [
       "<div>\n",
       "<style scoped>\n",
       "    .dataframe tbody tr th:only-of-type {\n",
       "        vertical-align: middle;\n",
       "    }\n",
       "\n",
       "    .dataframe tbody tr th {\n",
       "        vertical-align: top;\n",
       "    }\n",
       "\n",
       "    .dataframe thead th {\n",
       "        text-align: right;\n",
       "    }\n",
       "</style>\n",
       "<table border=\"1\" class=\"dataframe\">\n",
       "  <thead>\n",
       "    <tr style=\"text-align: right;\">\n",
       "      <th></th>\n",
       "      <th>Cough_symptoms</th>\n",
       "      <th>Fever</th>\n",
       "      <th>Sore_throat</th>\n",
       "      <th>Shortness_of_breath</th>\n",
       "      <th>Headache</th>\n",
       "      <th>Corona</th>\n",
       "      <th>Month</th>\n",
       "    </tr>\n",
       "  </thead>\n",
       "  <tbody>\n",
       "    <tr>\n",
       "      <th>274951</th>\n",
       "      <td>0</td>\n",
       "      <td>0</td>\n",
       "      <td>0</td>\n",
       "      <td>0</td>\n",
       "      <td>0</td>\n",
       "      <td>1</td>\n",
       "      <td>1</td>\n",
       "    </tr>\n",
       "    <tr>\n",
       "      <th>274952</th>\n",
       "      <td>0</td>\n",
       "      <td>0</td>\n",
       "      <td>0</td>\n",
       "      <td>0</td>\n",
       "      <td>0</td>\n",
       "      <td>0</td>\n",
       "      <td>1</td>\n",
       "    </tr>\n",
       "    <tr>\n",
       "      <th>274953</th>\n",
       "      <td>0</td>\n",
       "      <td>0</td>\n",
       "      <td>0</td>\n",
       "      <td>0</td>\n",
       "      <td>0</td>\n",
       "      <td>0</td>\n",
       "      <td>1</td>\n",
       "    </tr>\n",
       "    <tr>\n",
       "      <th>274954</th>\n",
       "      <td>0</td>\n",
       "      <td>0</td>\n",
       "      <td>0</td>\n",
       "      <td>0</td>\n",
       "      <td>0</td>\n",
       "      <td>0</td>\n",
       "      <td>1</td>\n",
       "    </tr>\n",
       "    <tr>\n",
       "      <th>274955</th>\n",
       "      <td>0</td>\n",
       "      <td>0</td>\n",
       "      <td>0</td>\n",
       "      <td>0</td>\n",
       "      <td>0</td>\n",
       "      <td>0</td>\n",
       "      <td>1</td>\n",
       "    </tr>\n",
       "  </tbody>\n",
       "</table>\n",
       "</div>"
      ],
      "text/plain": [
       "        Cough_symptoms  Fever  Sore_throat  Shortness_of_breath  Headache  \\\n",
       "274951               0      0            0                    0         0   \n",
       "274952               0      0            0                    0         0   \n",
       "274953               0      0            0                    0         0   \n",
       "274954               0      0            0                    0         0   \n",
       "274955               0      0            0                    0         0   \n",
       "\n",
       "        Corona  Month  \n",
       "274951       1      1  \n",
       "274952       0      1  \n",
       "274953       0      1  \n",
       "274954       0      1  \n",
       "274955       0      1  "
      ]
     },
     "execution_count": 30,
     "metadata": {},
     "output_type": "execute_result"
    }
   ],
   "source": [
    "dt2.tail()"
   ]
  },
  {
   "cell_type": "code",
   "execution_count": 31,
   "id": "f21d0960",
   "metadata": {
    "scrolled": true
   },
   "outputs": [
    {
     "name": "stdout",
     "output_type": "stream",
     "text": [
      "<class 'pandas.core.frame.DataFrame'>\n",
      "RangeIndex: 274956 entries, 0 to 274955\n",
      "Data columns (total 7 columns):\n",
      " #   Column               Non-Null Count   Dtype\n",
      "---  ------               --------------   -----\n",
      " 0   Cough_symptoms       274956 non-null  int8 \n",
      " 1   Fever                274956 non-null  int8 \n",
      " 2   Sore_throat          274956 non-null  int8 \n",
      " 3   Shortness_of_breath  274956 non-null  int8 \n",
      " 4   Headache             274956 non-null  int8 \n",
      " 5   Corona               274956 non-null  int8 \n",
      " 6   Month                274956 non-null  int8 \n",
      "dtypes: int8(7)\n",
      "memory usage: 1.8 MB\n"
     ]
    }
   ],
   "source": [
    "dt2.info()"
   ]
  },
  {
   "cell_type": "code",
   "execution_count": 32,
   "id": "366bee61",
   "metadata": {
    "scrolled": true
   },
   "outputs": [
    {
     "data": {
      "text/plain": [
       "0    260227\n",
       "1     14729\n",
       "Name: Corona, dtype: int64"
      ]
     },
     "execution_count": 32,
     "metadata": {},
     "output_type": "execute_result"
    }
   ],
   "source": [
    "dt2['Corona'].value_counts()"
   ]
  },
  {
   "cell_type": "code",
   "execution_count": 33,
   "id": "a58af7bb",
   "metadata": {
    "scrolled": true
   },
   "outputs": [
    {
     "data": {
      "text/plain": [
       "Cough_symptoms         0\n",
       "Fever                  0\n",
       "Sore_throat            0\n",
       "Shortness_of_breath    0\n",
       "Headache               0\n",
       "Corona                 0\n",
       "Month                  0\n",
       "dtype: int64"
      ]
     },
     "execution_count": 33,
     "metadata": {},
     "output_type": "execute_result"
    }
   ],
   "source": [
    "dt2.isnull().sum()"
   ]
  },
  {
   "cell_type": "code",
   "execution_count": 34,
   "id": "fd9b0008",
   "metadata": {},
   "outputs": [],
   "source": [
    "dt2 = dt2.dropna().reset_index(drop=True)"
   ]
  },
  {
   "cell_type": "code",
   "execution_count": 35,
   "id": "9ca513e3",
   "metadata": {
    "scrolled": true
   },
   "outputs": [
    {
     "data": {
      "text/plain": [
       "Cough_symptoms         0\n",
       "Fever                  0\n",
       "Sore_throat            0\n",
       "Shortness_of_breath    0\n",
       "Headache               0\n",
       "Corona                 0\n",
       "Month                  0\n",
       "dtype: int64"
      ]
     },
     "execution_count": 35,
     "metadata": {},
     "output_type": "execute_result"
    }
   ],
   "source": [
    "dt2.isnull().sum()"
   ]
  },
  {
   "cell_type": "code",
   "execution_count": 36,
   "id": "cadae5ba",
   "metadata": {
    "scrolled": true
   },
   "outputs": [
    {
     "data": {
      "text/plain": [
       "0    94.643143\n",
       "1     5.356857\n",
       "Name: Corona, dtype: float64"
      ]
     },
     "execution_count": 36,
     "metadata": {},
     "output_type": "execute_result"
    }
   ],
   "source": [
    "dt2['Corona'].value_counts(normalize=True)*100\n",
    "# Since the target feature is unbalanced and has a 95:5 split, choosing to use SMOTE to balance the dataset."
   ]
  },
  {
   "cell_type": "code",
   "execution_count": 37,
   "id": "bde89121",
   "metadata": {
    "scrolled": false
   },
   "outputs": [
    {
     "data": {
      "text/plain": [
       "0    260227\n",
       "1     14729\n",
       "Name: Corona, dtype: int64"
      ]
     },
     "execution_count": 37,
     "metadata": {},
     "output_type": "execute_result"
    }
   ],
   "source": [
    "dt2['Corona'].value_counts()"
   ]
  },
  {
   "cell_type": "markdown",
   "id": "2550160a",
   "metadata": {},
   "source": [
    "# Hypothesis:\n",
    "           \n",
    "           NULL Hypothesis: There is no correlation between Cough_symptoms, Fever, Sore_throat, Shortness_of_breath and                                     Headache and Month\n",
    "           \n",
    "           Alternate Hypothesis: There is a correlation between Cough_symptoms, Fever, Sore_throat, Shortness_of_breath and                                     Headache and Month"
   ]
  },
  {
   "cell_type": "markdown",
   "id": "ea9bf43a",
   "metadata": {},
   "source": [
    "# Feature Selection using RFE"
   ]
  },
  {
   "cell_type": "code",
   "execution_count": 38,
   "id": "820fb763",
   "metadata": {},
   "outputs": [],
   "source": [
    "from sklearn.feature_selection import RFE\n",
    "from imblearn.over_sampling import SMOTE   ## Using Synthetically Minority Oversampling Technique"
   ]
  },
  {
   "cell_type": "code",
   "execution_count": 39,
   "id": "fabe50a0",
   "metadata": {},
   "outputs": [
    {
     "data": {
      "text/plain": [
       "Index(['Cough_symptoms', 'Fever', 'Sore_throat', 'Headache'], dtype='object')"
      ]
     },
     "execution_count": 39,
     "metadata": {},
     "output_type": "execute_result"
    }
   ],
   "source": [
    "X = dt2[['Cough_symptoms','Fever','Sore_throat','Shortness_of_breath','Headache','Month']]\n",
    "y = dt2['Corona']\n",
    "\n",
    "\n",
    "## Using SMOTE to Take more samples from Lesser Category of Predictor Variable\n",
    "oversample = SMOTE()\n",
    "X, y = oversample.fit_resample(X, y)\n",
    "\n",
    "####  Feature Selection with Recursive Feature Elimination\n",
    "\n",
    "rfe = RFE(estimator=DecisionTreeClassifier(),n_features_to_select=4,step=1)\n",
    "# fitting the model\n",
    "rfe.fit(X, y)\n",
    "selected_features = rfe.get_support()\n",
    "\n",
    "selected_features = X.columns[selected_features]\n",
    "selected_features\n"
   ]
  },
  {
   "cell_type": "code",
   "execution_count": 40,
   "id": "edf30f46",
   "metadata": {},
   "outputs": [
    {
     "data": {
      "text/html": [
       "<div>\n",
       "<style scoped>\n",
       "    .dataframe tbody tr th:only-of-type {\n",
       "        vertical-align: middle;\n",
       "    }\n",
       "\n",
       "    .dataframe tbody tr th {\n",
       "        vertical-align: top;\n",
       "    }\n",
       "\n",
       "    .dataframe thead th {\n",
       "        text-align: right;\n",
       "    }\n",
       "</style>\n",
       "<table border=\"1\" class=\"dataframe\">\n",
       "  <thead>\n",
       "    <tr style=\"text-align: right;\">\n",
       "      <th></th>\n",
       "      <th>Features</th>\n",
       "      <th>Ranking</th>\n",
       "    </tr>\n",
       "  </thead>\n",
       "  <tbody>\n",
       "    <tr>\n",
       "      <th>0</th>\n",
       "      <td>Cough_symptoms</td>\n",
       "      <td>1</td>\n",
       "    </tr>\n",
       "    <tr>\n",
       "      <th>1</th>\n",
       "      <td>Fever</td>\n",
       "      <td>1</td>\n",
       "    </tr>\n",
       "    <tr>\n",
       "      <th>2</th>\n",
       "      <td>Sore_throat</td>\n",
       "      <td>1</td>\n",
       "    </tr>\n",
       "    <tr>\n",
       "      <th>3</th>\n",
       "      <td>Shortness_of_breath</td>\n",
       "      <td>2</td>\n",
       "    </tr>\n",
       "    <tr>\n",
       "      <th>4</th>\n",
       "      <td>Headache</td>\n",
       "      <td>1</td>\n",
       "    </tr>\n",
       "    <tr>\n",
       "      <th>5</th>\n",
       "      <td>Month</td>\n",
       "      <td>3</td>\n",
       "    </tr>\n",
       "  </tbody>\n",
       "</table>\n",
       "</div>"
      ],
      "text/plain": [
       "              Features  Ranking\n",
       "0       Cough_symptoms        1\n",
       "1                Fever        1\n",
       "2          Sore_throat        1\n",
       "3  Shortness_of_breath        2\n",
       "4             Headache        1\n",
       "5                Month        3"
      ]
     },
     "execution_count": 40,
     "metadata": {},
     "output_type": "execute_result"
    }
   ],
   "source": [
    "best_features = pd.DataFrame({\"Features\":X.columns,\"Ranking\":rfe.ranking_})\n",
    "best_features"
   ]
  },
  {
   "cell_type": "markdown",
   "id": "7575cec6",
   "metadata": {},
   "source": [
    "      From the Table above, it is evident that the best features are 'Cough_symptoms', 'Fever', 'Headache' which is further validated in Random Forest model, by using feature_importances"
   ]
  },
  {
   "cell_type": "markdown",
   "id": "5c9f3c75",
   "metadata": {},
   "source": [
    "      With RFE we can see that the selected features are indeed important to the model prediction. Hence we will reject\n",
    "      the Null Hypothesis because there is a relationship between Cough_symptoms, Fever, Sore_throat,\n",
    "      Shortness_of_breath and Headache."
   ]
  },
  {
   "cell_type": "markdown",
   "id": "2a90d521",
   "metadata": {},
   "source": [
    "# Creating Training and Testing Data"
   ]
  },
  {
   "cell_type": "code",
   "execution_count": 41,
   "id": "fae8167d",
   "metadata": {},
   "outputs": [],
   "source": [
    "X = dt2[['Cough_symptoms','Fever','Sore_throat','Shortness_of_breath','Headache','Month']]\n",
    "y = dt2['Corona']\n",
    "oversample = SMOTE()\n",
    "X, y = oversample.fit_resample(X, y)"
   ]
  },
  {
   "cell_type": "code",
   "execution_count": 42,
   "id": "b5f2e13a",
   "metadata": {},
   "outputs": [],
   "source": [
    "X_train,X_test,y_train,y_test = train_test_split(X,y,test_size=0.20, random_state=46)\n",
    "## Splitting the Training and Testing Data to: 80:20, 20% of the data goes into testing"
   ]
  },
  {
   "cell_type": "code",
   "execution_count": 43,
   "id": "8be53406",
   "metadata": {
    "scrolled": true
   },
   "outputs": [
    {
     "data": {
      "text/plain": [
       "(416363, 6)"
      ]
     },
     "execution_count": 43,
     "metadata": {},
     "output_type": "execute_result"
    }
   ],
   "source": [
    "X_train.shape"
   ]
  },
  {
   "cell_type": "code",
   "execution_count": 44,
   "id": "d47d594d",
   "metadata": {},
   "outputs": [
    {
     "data": {
      "text/plain": [
       "(416363,)"
      ]
     },
     "execution_count": 44,
     "metadata": {},
     "output_type": "execute_result"
    }
   ],
   "source": [
    "y_train.shape"
   ]
  },
  {
   "cell_type": "markdown",
   "id": "f8d9bc20",
   "metadata": {},
   "source": [
    "The number of rows for X and y is same now"
   ]
  },
  {
   "cell_type": "markdown",
   "id": "a6d47f38",
   "metadata": {},
   "source": [
    "# 1. Logistic Regression Model"
   ]
  },
  {
   "cell_type": "code",
   "execution_count": 45,
   "id": "f5463399",
   "metadata": {},
   "outputs": [],
   "source": [
    "LG = LogisticRegression().fit(X_train,y_train)"
   ]
  },
  {
   "cell_type": "code",
   "execution_count": 46,
   "id": "c643aec1",
   "metadata": {},
   "outputs": [],
   "source": [
    "y_pred = LG.predict(X_test)"
   ]
  },
  {
   "cell_type": "code",
   "execution_count": 47,
   "id": "bc020fb5",
   "metadata": {},
   "outputs": [
    {
     "name": "stdout",
     "output_type": "stream",
     "text": [
      "Accuracy: 0.7447\n",
      "Precision: 0.8056\n",
      "Recall: 0.6381\n",
      "F1 Score: 0.7122\n"
     ]
    }
   ],
   "source": [
    "accuracy_LG = metrics.accuracy_score(y_test, y_pred)\n",
    "precision_LG = metrics.precision_score(y_test, y_pred)\n",
    "recall_LG = metrics.recall_score(y_test, y_pred)\n",
    "f1_score_LG = metrics.f1_score(y_test, y_pred)                                  \n",
    "\n",
    "print(\"Accuracy:\", \"%.4f\" % metrics.accuracy_score(y_test, y_pred))\n",
    "print(\"Precision:\", \"%.4f\" % metrics.precision_score(y_test, y_pred))\n",
    "print(\"Recall:\", \"%.4f\" % metrics.recall_score(y_test, y_pred))\n",
    "print(\"F1 Score:\", \"%.4f\" % metrics.f1_score(y_test, y_pred))"
   ]
  },
  {
   "cell_type": "code",
   "execution_count": 48,
   "id": "e627cc65",
   "metadata": {},
   "outputs": [
    {
     "data": {
      "text/plain": [
       "<sklearn.metrics._plot.confusion_matrix.ConfusionMatrixDisplay at 0x1641cc8fc90>"
      ]
     },
     "execution_count": 48,
     "metadata": {},
     "output_type": "execute_result"
    },
    {
     "data": {
      "image/png": "[encoded data removed]",
      "text/plain": [
       "<Figure size 640x480 with 2 Axes>"
      ]
     },
     "metadata": {},
     "output_type": "display_data"
    }
   ],
   "source": [
    "# Calculate the values for each quadrant in the confusion matrix\n",
    "cm = metrics.confusion_matrix(y_test, y_pred, labels = LG.classes_)\n",
    "\n",
    "# Create the confusion matrix as a visualization\n",
    "disp = metrics.ConfusionMatrixDisplay(confusion_matrix = cm,display_labels = LG.classes_)\n",
    "\n",
    "# Display the confusion matrix\n",
    "disp.plot()"
   ]
  },
  {
   "cell_type": "markdown",
   "id": "20157210",
   "metadata": {},
   "source": [
    "# Feature selection"
   ]
  },
  {
   "cell_type": "code",
   "execution_count": 49,
   "id": "94af7da1",
   "metadata": {},
   "outputs": [],
   "source": [
    "## Testing the scores by removing Month - feature as it has a lower rank.\n",
    "\n",
    "X_best_features =X[['Cough_symptoms','Fever','Sore_throat','Shortness_of_breath','Headache']]\n",
    "y_best_features = y\n",
    "\n",
    "\n",
    "\n",
    "## Training and Testing based on best features\n",
    "X_train_best,X_test_best,y_train_best,y_test_best =train_test_split(X_best_features,y_best_features,test_size=0.20, random_state=46)\n",
    "\n",
    "LG_best_features = LogisticRegression().fit(X_train_best,y_train_best)\n",
    "\n",
    "y_best_pred = LG_best_features.predict(X_test_best)"
   ]
  },
  {
   "cell_type": "code",
   "execution_count": 50,
   "id": "283ba394",
   "metadata": {},
   "outputs": [
    {
     "name": "stdout",
     "output_type": "stream",
     "text": [
      "Accuracy: 0.7447\n",
      "Precision: 0.8056\n",
      "Recall: 0.6381\n",
      "F1 Score: 0.7122\n"
     ]
    }
   ],
   "source": [
    "print(\"Accuracy:\", \"%.4f\" % metrics.accuracy_score(y_test_best, y_best_pred))\n",
    "print(\"Precision:\", \"%.4f\" % metrics.precision_score(y_test_best, y_best_pred))\n",
    "print(\"Recall:\", \"%.4f\" % metrics.recall_score(y_test_best, y_best_pred))\n",
    "print(\"F1 Score:\", \"%.4f\" % metrics.f1_score(y_test_best, y_best_pred))"
   ]
  },
  {
   "cell_type": "code",
   "execution_count": 51,
   "id": "0c87c9a3",
   "metadata": {},
   "outputs": [
    {
     "data": {
      "text/plain": [
       "<sklearn.metrics._plot.confusion_matrix.ConfusionMatrixDisplay at 0x164208da410>"
      ]
     },
     "execution_count": 51,
     "metadata": {},
     "output_type": "execute_result"
    },
    {
     "data": {
      "image/png": "[encoded data removed]",
      "text/plain": [
       "<Figure size 640x480 with 2 Axes>"
      ]
     },
     "metadata": {},
     "output_type": "display_data"
    }
   ],
   "source": [
    "# Calculate the values for each quadrant in the confusion matrix\n",
    "cm = metrics.confusion_matrix(y_test_best, y_best_pred, labels = LG_best_features.classes_)\n",
    "\n",
    "# Create the confusion matrix as a visualization\n",
    "disp = metrics.ConfusionMatrixDisplay(confusion_matrix = cm,display_labels = LG_best_features.classes_)\n",
    "\n",
    "# Display the confusion matrix\n",
    "disp.plot()"
   ]
  },
  {
   "cell_type": "markdown",
   "id": "75706b42",
   "metadata": {},
   "source": [
    "# 2. Naive Bayes Model\n",
    "     1. It assumed that the features are independent of each other.\n",
    "     2. Uses Bayes Theorem to find the probability of y(Result) given (X1,X2,X3,X4,X5)Events have occured."
   ]
  },
  {
   "cell_type": "code",
   "execution_count": 52,
   "id": "f1d442d9",
   "metadata": {},
   "outputs": [],
   "source": [
    "from sklearn.naive_bayes import GaussianNB"
   ]
  },
  {
   "cell_type": "code",
   "execution_count": 53,
   "id": "ad3dd3fb",
   "metadata": {},
   "outputs": [],
   "source": [
    "X = dt2[['Cough_symptoms','Fever','Sore_throat','Shortness_of_breath','Headache']]\n",
    "y = dt2['Corona']\n",
    "oversample = SMOTE()\n",
    "X, y = oversample.fit_resample(X, y)\n",
    "\n",
    "X_train,X_test,y_train,y_test = train_test_split(X,y,test_size=0.20,random_state=46)\n",
    "## Splitting the Training and Testing Data to: 80:20, 20% of the data goes into testing"
   ]
  },
  {
   "cell_type": "code",
   "execution_count": 54,
   "id": "09f9bf81",
   "metadata": {},
   "outputs": [],
   "source": [
    "GNB = GaussianNB().fit(X_train,y_train)"
   ]
  },
  {
   "cell_type": "code",
   "execution_count": 55,
   "id": "153d009e",
   "metadata": {},
   "outputs": [],
   "source": [
    "y_pred = GNB.predict(X_test)"
   ]
  },
  {
   "cell_type": "code",
   "execution_count": 56,
   "id": "12bcea3e",
   "metadata": {},
   "outputs": [
    {
     "name": "stdout",
     "output_type": "stream",
     "text": [
      "Accuracy: 0.6805\n",
      "Precision: 0.8911\n",
      "Recall: 0.4038\n",
      "F1 Score: 0.5557\n"
     ]
    }
   ],
   "source": [
    "accuracy_GNB = metrics.accuracy_score(y_test, y_pred)\n",
    "precision_GNB = metrics.precision_score(y_test, y_pred)\n",
    "recall_GNB = metrics.recall_score(y_test, y_pred)\n",
    "f1_score_GNB = metrics.f1_score(y_test, y_pred)   \n",
    "\n",
    "print(\"Accuracy:\", \"%.4f\" % metrics.accuracy_score(y_test, y_pred))\n",
    "print(\"Precision:\", \"%.4f\" % metrics.precision_score(y_test, y_pred))\n",
    "print(\"Recall:\", \"%.4f\" % metrics.recall_score(y_test, y_pred))\n",
    "print(\"F1 Score:\", \"%.4f\" % metrics.f1_score(y_test, y_pred))"
   ]
  },
  {
   "cell_type": "code",
   "execution_count": 57,
   "id": "46e5778b",
   "metadata": {},
   "outputs": [
    {
     "data": {
      "text/plain": [
       "<sklearn.metrics._plot.confusion_matrix.ConfusionMatrixDisplay at 0x1640beecdd0>"
      ]
     },
     "execution_count": 57,
     "metadata": {},
     "output_type": "execute_result"
    },
    {
     "data": {
      "image/png": "[encoded data removed]",
      "text/plain": [
       "<Figure size 640x480 with 2 Axes>"
      ]
     },
     "metadata": {},
     "output_type": "display_data"
    }
   ],
   "source": [
    "# Calculate values for each quadrant in confusion matrix\n",
    "cm = metrics.confusion_matrix(y_test, y_pred, labels=GNB.classes_)\n",
    "# Create confusion Matrix as Visualization\n",
    "disp = metrics.ConfusionMatrixDisplay(confusion_matrix = cm, display_labels=GNB.classes_)\n",
    "# Display the Matrix\n",
    "disp.plot()"
   ]
  },
  {
   "cell_type": "markdown",
   "id": "e9022626",
   "metadata": {},
   "source": [
    "# 3. Decision Tree\n",
    "         Decision Tree can handle Non-linear relationships,both numerical and categorical features and it is interpretable."
   ]
  },
  {
   "cell_type": "code",
   "execution_count": 58,
   "id": "216486bf",
   "metadata": {},
   "outputs": [],
   "source": [
    "from sklearn.model_selection import GridSearchCV"
   ]
  },
  {
   "cell_type": "code",
   "execution_count": 59,
   "id": "d88d5fa7",
   "metadata": {},
   "outputs": [],
   "source": [
    "X = dt2[['Cough_symptoms','Fever','Sore_throat','Shortness_of_breath','Headache']]\n",
    "y = dt2['Corona']\n",
    "oversample = SMOTE()\n",
    "X, y = oversample.fit_resample(X, y)\n",
    "\n",
    "X_train,X_test,y_train,y_test = train_test_split(X,y,test_size=0.20,random_state=46)\n",
    "## Splitting the Training and Testing Data to: 80:20, 20% of the data goes into testing"
   ]
  },
  {
   "cell_type": "code",
   "execution_count": 60,
   "id": "2a0ab1b2",
   "metadata": {},
   "outputs": [],
   "source": [
    "from sklearn.tree import plot_tree"
   ]
  },
  {
   "cell_type": "code",
   "execution_count": 61,
   "id": "1b9705a2",
   "metadata": {},
   "outputs": [],
   "source": [
    "DecTree = DecisionTreeClassifier(max_depth = 50,min_samples_leaf=20,random_state = 46) \n",
    "                                ## Randomly choosing the depth of the Decision Tree.\n",
    "\n",
    "DecTree.fit(X_train,y_train)\n",
    "\n",
    "y_pred = DecTree.predict(X_test)"
   ]
  },
  {
   "cell_type": "code",
   "execution_count": 62,
   "id": "8b160b90",
   "metadata": {},
   "outputs": [
    {
     "data": {
      "image/png": "[encoded data removed]",
      "text/plain": [
       "<Figure size 2000x1200 with 1 Axes>"
      ]
     },
     "metadata": {},
     "output_type": "display_data"
    }
   ],
   "source": [
    "plt.figure(figsize=(20,12))\n",
    "plot_tree(DecTree, max_depth=2, fontsize=14,filled =True, feature_names=X.columns);"
   ]
  },
  {
   "cell_type": "code",
   "execution_count": 63,
   "id": "c00238b0",
   "metadata": {},
   "outputs": [
    {
     "name": "stdout",
     "output_type": "stream",
     "text": [
      "Accuracy: 0.7464\n",
      "Precision: 0.8057\n",
      "Recall: 0.6424\n",
      "F1 Score: 0.7148\n"
     ]
    }
   ],
   "source": [
    "accuracy_Dectree = metrics.accuracy_score(y_test, y_pred)\n",
    "precision_Dectree = metrics.precision_score(y_test, y_pred)\n",
    "recall_Dectree = metrics.recall_score(y_test, y_pred)\n",
    "f1_score_Dectree = metrics.f1_score(y_test, y_pred)   \n",
    "\n",
    "print(\"Accuracy:\", \"%.4f\" % metrics.accuracy_score(y_test, y_pred))\n",
    "print(\"Precision:\", \"%.4f\" % metrics.precision_score(y_test, y_pred))\n",
    "print(\"Recall:\", \"%.4f\" % metrics.recall_score(y_test, y_pred))\n",
    "print(\"F1 Score:\", \"%.4f\" % metrics.f1_score(y_test, y_pred))"
   ]
  },
  {
   "cell_type": "code",
   "execution_count": 64,
   "id": "6e59b0e9",
   "metadata": {},
   "outputs": [
    {
     "data": {
      "text/plain": [
       "<sklearn.metrics._plot.confusion_matrix.ConfusionMatrixDisplay at 0x1641e24a1d0>"
      ]
     },
     "execution_count": 64,
     "metadata": {},
     "output_type": "execute_result"
    },
    {
     "data": {
      "image/png": "[encoded data removed]",
      "text/plain": [
       "<Figure size 640x480 with 2 Axes>"
      ]
     },
     "metadata": {},
     "output_type": "display_data"
    }
   ],
   "source": [
    "cm = metrics.confusion_matrix(y_test, y_pred, labels = DecTree.classes_)\n",
    "\n",
    "Disp = metrics.ConfusionMatrixDisplay(confusion_matrix = cm, display_labels = DecTree.classes_)\n",
    "Disp.plot()"
   ]
  },
  {
   "cell_type": "markdown",
   "id": "a43a1782",
   "metadata": {},
   "source": [
    "# Cross-Validated Hyperparameter Tuning using GridSearchCV"
   ]
  },
  {
   "cell_type": "code",
   "execution_count": 65,
   "id": "f95b66be",
   "metadata": {},
   "outputs": [],
   "source": [
    "# Assigning a dictionary of hyperparameters to search over\n",
    "tree_para = {'max_depth':[2,3,5,6,7,8,9,10,15,20,30,40,50],\n",
    "             'min_samples_leaf': [2,3,5, 10, 20, 50]}\n",
    "\n",
    "# Assigning a dictionary of scoring metrics to capture\n",
    "scoring = {'accuracy', 'precision', 'recall', 'f1'}\n",
    "\n",
    "# Instantiating the classifier\n",
    "tuned_DecTree = DecisionTreeClassifier(random_state = 46)\n",
    "\n"
   ]
  },
  {
   "cell_type": "code",
   "execution_count": null,
   "id": "949c10c3",
   "metadata": {},
   "outputs": [],
   "source": [
    "# Instantiate the GridSearch\n",
    "clf = GridSearchCV(tuned_DecTree, \n",
    "                   tree_para, \n",
    "                   scoring = scoring, \n",
    "                   cv=5,        ## Cross - Validation folds\n",
    "                   \n",
    "                   refit=\"f1\")  ## refit-> The reason it's called refit is because once the algorithm finds \n",
    "                                ## the combination of hyperparameters that results in the best average score \n",
    "                                ## across all validation folds,\n",
    "                                ## it will then refit this model to all of the training data\n",
    "\n",
    "# Fit the model\n",
    "clf.fit(X_train, y_train)"
   ]
  },
  {
   "cell_type": "code",
   "execution_count": null,
   "id": "968fc5d6",
   "metadata": {
    "scrolled": true
   },
   "outputs": [],
   "source": [
    "clf.best_estimator_   ## Best parameters for best results"
   ]
  },
  {
   "cell_type": "code",
   "execution_count": null,
   "id": "2e241d54",
   "metadata": {},
   "outputs": [],
   "source": [
    "print(\"Best Avg. Validation Score: \", \"%.4f\" % clf.best_score_)\n",
    "\n",
    "# Best average F1 score during validation"
   ]
  },
  {
   "cell_type": "code",
   "execution_count": null,
   "id": "a698c2e8",
   "metadata": {
    "scrolled": true
   },
   "outputs": [],
   "source": [
    "clf.cv_results_"
   ]
  },
  {
   "cell_type": "code",
   "execution_count": null,
   "id": "084fd55e",
   "metadata": {},
   "outputs": [],
   "source": [
    "print(\"Validation model Accuracy:\",\"%.4f\" % clf.cv_results_['mean_test_accuracy'].max())\n",
    "print(\"Validation model Precision:\",\"%.4f\" % clf.cv_results_['mean_test_precision'].max())\n",
    "print(\"Validation model Recall:\",\"%.4f\" %  clf.cv_results_['mean_test_recall'].max())\n",
    "print(\"Validation model F1 Score:\",\"%.4f\" % clf.cv_results_['mean_test_f1'].max())\n",
    "\n",
    "## These results are from Validation"
   ]
  },
  {
   "cell_type": "code",
   "execution_count": null,
   "id": "7d5c8bfa",
   "metadata": {},
   "outputs": [],
   "source": [
    "TunedDecTree = DecisionTreeClassifier(max_depth = 6, min_samples_leaf=2, random_state = 46) \n",
    "                                ## choosing the depth of the Decision Tree from Hyperparameter Tuning\n",
    "\n",
    "TunedDecTree.fit(X_train,y_train)\n",
    "\n",
    "y_pred = TunedDecTree.predict(X_test)"
   ]
  },
  {
   "cell_type": "code",
   "execution_count": null,
   "id": "779ac5e9",
   "metadata": {
    "scrolled": true
   },
   "outputs": [],
   "source": [
    "print(\"Accuracy:\", \"%.4f\" % metrics.accuracy_score(y_test, y_pred))\n",
    "print(\"Precision:\", \"%.4f\" % metrics.precision_score(y_test, y_pred))\n",
    "print(\"Recall:\", \"%.4f\" % metrics.recall_score(y_test, y_pred))\n",
    "print(\"F1 Score:\", \"%.4f\" % metrics.f1_score(y_test, y_pred))"
   ]
  },
  {
   "cell_type": "code",
   "execution_count": null,
   "id": "2e1b3d16",
   "metadata": {},
   "outputs": [],
   "source": [
    "cm = metrics.confusion_matrix(y_test, y_pred, labels = TunedDecTree.classes_)\n",
    "\n",
    "Disp = metrics.ConfusionMatrixDisplay(confusion_matrix = cm, display_labels = TunedDecTree.classes_)\n",
    "Disp.plot()"
   ]
  },
  {
   "cell_type": "markdown",
   "id": "445947fd",
   "metadata": {},
   "source": [
    "Note: Decision trees are particularly sensitive to the complexity of the data. Since the dataset is not very complex, tuning it does not give any significant results.\n"
   ]
  },
  {
   "cell_type": "markdown",
   "id": "621bf467",
   "metadata": {},
   "source": [
    "# 4. Random Forest\n",
    "           Ensemble of decision trees, reduces overfitting, robust, handles complex relationships."
   ]
  },
  {
   "cell_type": "code",
   "execution_count": null,
   "id": "6b84d968",
   "metadata": {},
   "outputs": [],
   "source": [
    "X = dt2[['Cough_symptoms','Fever','Sore_throat','Shortness_of_breath','Headache']]\n",
    "y = dt2['Corona']\n",
    "\n",
    "oversample = SMOTE()\n",
    "X, y = oversample.fit_resample(X, y)\n",
    "\n",
    "X_train,X_test,y_train,y_test = train_test_split(X,y,test_size=0.20,random_state=46)\n",
    "## Splitting the Training and Testing Data to: 80:20, 20% of the data goes into testing"
   ]
  },
  {
   "cell_type": "code",
   "execution_count": null,
   "id": "ada5ce91",
   "metadata": {},
   "outputs": [],
   "source": [
    "X_train.shape"
   ]
  },
  {
   "cell_type": "code",
   "execution_count": null,
   "id": "56fc7b53",
   "metadata": {},
   "outputs": [],
   "source": [
    "y_train.shape"
   ]
  },
  {
   "cell_type": "code",
   "execution_count": null,
   "id": "39a24d41",
   "metadata": {},
   "outputs": [],
   "source": [
    "from sklearn.ensemble import RandomForestClassifier"
   ]
  },
  {
   "cell_type": "code",
   "execution_count": null,
   "id": "f1d30525",
   "metadata": {},
   "outputs": [],
   "source": [
    "RF = RandomForestClassifier(max_depth =5,min_samples_leaf=2, random_state = 46).fit(X_train,y_train)"
   ]
  },
  {
   "cell_type": "code",
   "execution_count": null,
   "id": "500db900",
   "metadata": {},
   "outputs": [],
   "source": [
    "y_pred = RF.predict(X_test)"
   ]
  },
  {
   "cell_type": "code",
   "execution_count": null,
   "id": "7a6e3031",
   "metadata": {},
   "outputs": [],
   "source": [
    "accuracy_RF = metrics.accuracy_score(y_test, y_pred)\n",
    "precision_RF = metrics.precision_score(y_test, y_pred)\n",
    "recall_RF= metrics.recall_score(y_test, y_pred)\n",
    "f1_score_RF = metrics.f1_score(y_test, y_pred)   \n",
    "\n",
    "print(\"Accuracy:\", \"%.4f\" % metrics.accuracy_score(y_test, y_pred))\n",
    "print(\"Precision:\", \"%.4f\" % metrics.precision_score(y_test, y_pred))\n",
    "print(\"Recall:\", \"%.4f\" % metrics.recall_score(y_test, y_pred))\n",
    "print(\"F1 Score:\", \"%.4f\" % metrics.f1_score(y_test, y_pred))"
   ]
  },
  {
   "cell_type": "code",
   "execution_count": null,
   "id": "7f9b31dc",
   "metadata": {},
   "outputs": [],
   "source": [
    "cm = metrics.confusion_matrix(y_test, y_pred, labels = RF.classes_)\n",
    "\n",
    "Disp = metrics.ConfusionMatrixDisplay(confusion_matrix = cm, display_labels = RF.classes_)\n",
    "Disp.plot()"
   ]
  },
  {
   "cell_type": "code",
   "execution_count": null,
   "id": "411f5c63",
   "metadata": {
    "scrolled": false
   },
   "outputs": [],
   "source": [
    "feature_importances = pd.DataFrame({\"Features\":X.columns, \"Importance\":RF.feature_importances_})\n",
    "feature_importances"
   ]
  },
  {
   "cell_type": "markdown",
   "id": "aea64665",
   "metadata": {},
   "source": [
    "# Important features:\n",
    "1. Fever\n",
    "2. Cough_symptoms\n",
    "3. Headache\n",
    "4. Sore_throat"
   ]
  },
  {
   "cell_type": "markdown",
   "id": "7ae8939d",
   "metadata": {},
   "source": [
    "# 5. XG Boost"
   ]
  },
  {
   "cell_type": "code",
   "execution_count": null,
   "id": "fa6ebdd5",
   "metadata": {},
   "outputs": [],
   "source": [
    "pip install xgboost"
   ]
  },
  {
   "cell_type": "code",
   "execution_count": null,
   "id": "391890eb",
   "metadata": {},
   "outputs": [],
   "source": [
    "from xgboost import XGBClassifier\n",
    "from xgboost import plot_importance\n"
   ]
  },
  {
   "cell_type": "code",
   "execution_count": null,
   "id": "35b6db29",
   "metadata": {},
   "outputs": [],
   "source": [
    "X = dt2[['Cough_symptoms','Fever','Sore_throat','Shortness_of_breath','Headache']]\n",
    "y = dt2['Corona']\n",
    "\n",
    "oversample = SMOTE()\n",
    "X, y = oversample.fit_resample(X, y)\n",
    "\n",
    "X_train,X_test,y_train,y_test = train_test_split(X,y,test_size=0.20,random_state=46)\n",
    "## Splitting the Training and Testing Data to: 80:20, 20% of the data goes into testing"
   ]
  },
  {
   "cell_type": "code",
   "execution_count": null,
   "id": "2fde00ee",
   "metadata": {},
   "outputs": [],
   "source": [
    "xg = XGBClassifier().fit(X_train,y_train)"
   ]
  },
  {
   "cell_type": "code",
   "execution_count": null,
   "id": "db2675bd",
   "metadata": {},
   "outputs": [],
   "source": [
    "y_pred = xg.predict(X_test)"
   ]
  },
  {
   "cell_type": "code",
   "execution_count": null,
   "id": "48035076",
   "metadata": {
    "scrolled": true
   },
   "outputs": [],
   "source": [
    "accuracy_xg = metrics.accuracy_score(y_test, y_pred)\n",
    "precision_xg = metrics.precision_score(y_test, y_pred)\n",
    "recall_xg= metrics.recall_score(y_test, y_pred)\n",
    "f1_score_xg = metrics.f1_score(y_test, y_pred)   \n",
    "\n",
    "print(\"Accuracy:\", \"%.4f\" % metrics.accuracy_score(y_test, y_pred))\n",
    "print(\"Precision:\", \"%.4f\" % metrics.precision_score(y_test, y_pred))\n",
    "print(\"Recall:\", \"%.4f\" % metrics.recall_score(y_test, y_pred))\n",
    "print(\"F1 Score:\", \"%.4f\" % metrics.f1_score(y_test, y_pred))"
   ]
  },
  {
   "cell_type": "code",
   "execution_count": null,
   "id": "9dce7475",
   "metadata": {},
   "outputs": [],
   "source": [
    "cm = metrics.confusion_matrix(y_test, y_pred, labels = xg.classes_)\n",
    "\n",
    "Disp = metrics.ConfusionMatrixDisplay(confusion_matrix = cm, display_labels = xg.classes_)\n",
    "Disp.plot()"
   ]
  },
  {
   "cell_type": "markdown",
   "id": "f1c84845",
   "metadata": {},
   "source": [
    "# Results "
   ]
  },
  {
   "cell_type": "code",
   "execution_count": null,
   "id": "847a0c62",
   "metadata": {},
   "outputs": [],
   "source": [
    "table = pd.DataFrame()\n",
    "table = table.append({'Model': \"Logistic Model\",\n",
    "                       'Accuracy': accuracy_LG,\n",
    "                       'Precision': precision_LG,\n",
    "                       'Recall': recall_LG,\n",
    "                       'F1 Score': f1_score_LG\n",
    "                      },\n",
    "                        ignore_index=True\n",
    "                    )\n",
    "\n",
    "table = table.append({'Model': \"Naive Bayes\",\n",
    "                        'Accuracy':  accuracy_GNB,\n",
    "                        'Precision': precision_GNB,\n",
    "                        'Recall': recall_GNB,\n",
    "                        'F1 Score': f1_score_GNB\n",
    "                      \n",
    "                      },\n",
    "                        ignore_index=True\n",
    "                    )\n",
    "table = table.append({'Model': \"Decision Tree\",\n",
    "                        'Accuracy':  accuracy_Dectree,\n",
    "                        'Precision': precision_Dectree,\n",
    "                        'Recall': recall_Dectree,\n",
    "                        'F1 Score': f1_score_Dectree\n",
    "                       },\n",
    "                        ignore_index=True)\n",
    "\n",
    "table = table.append({'Model': \"Random Forest\",\n",
    "                        'Accuracy':  accuracy_RF,\n",
    "                        'Precision': precision_RF,\n",
    "                        'Recall': recall_RF,\n",
    "                        'F1 Score': f1_score_RF\n",
    "                       },\n",
    "                        ignore_index=True)\n",
    "\n",
    "table = table.append({'Model': \"XG Boost\",\n",
    "                        'Accuracy':  accuracy_xg,\n",
    "                        'Precision': precision_xg,\n",
    "                        'Recall': recall_xg,\n",
    "                        'F1 Score': f1_score_xg\n",
    "                       },\n",
    "                        ignore_index=True)\n",
    "\n",
    "table"
   ]
  },
  {
   "cell_type": "markdown",
   "id": "199e8020",
   "metadata": {},
   "source": [
    "\n"
   ]
  },
  {
   "cell_type": "code",
   "execution_count": null,
   "id": "d5a97d22",
   "metadata": {},
   "outputs": [],
   "source": [
    "import plotly.express as px\n",
    "model_comparison_melted = pd.melt(table, id_vars='Model', var_name='Metric', value_name='Score')\n",
    "\n",
    "# Grouped bar chart using Plotly Express\n",
    "fig = px.bar(model_comparison_melted, x='Model', y='Score', color='Metric', barmode='group',\n",
    "             labels={'Score': 'Performance Score'})\n",
    "\n",
    "# Customize layout\n",
    "fig.update_layout(title='Model Comparison',\n",
    "                  xaxis_title='Model',\n",
    "                  yaxis_title='Performance Score',\n",
    "                  legend_title='Metric')\n",
    "\n",
    "\n",
    "fig.show()"
   ]
  },
  {
   "cell_type": "markdown",
   "id": "b50c7db9",
   "metadata": {},
   "source": [
    "Taking F1 score as the main evaluation metric as, F1 score is the Harmonic mean of Recall and Precision.\n",
    "\n",
    "1. We need to reduce the False-Negatives. If a Patient is Actually positive, but the model predicts it to be negative, it could be disastrous to the patient and could mean life and death. \n",
    "\n",
    "2. We need to Reduce False-Positives. It could hepl significantly in patient treatment when the model accurately predicts the True-Positives and reduce the work load on the workforce in hospitals, because they need not spend resources on patients who are not likely to be Covid-positive. This will reduce the burden on health-care.\n",
    "\n",
    "3. Other than Naive-Bayes model, all other 4 models can be implemented. Naive-Bayes is the worst performer possibly because it assumes that all the features are independent of each other. Which is actually not the case.\n",
    "\n",
    "4. With Recursive Feature Elimination and feature_importances we were able to see the features were relevant to the model and aided in model predictions.\n",
    "\n",
    "5. 5 Models were prepared which could help in the efficient treatment of covid patients.\n",
    "\n",
    "6. Additionally, the data for Gender, Age of the person and the Travel history are some of the parameters that can be improved upon, for better screening of Corona-positive patients.\n"
   ]
  },
  {
   "cell_type": "markdown",
   "id": "926ac6af",
   "metadata": {},
   "source": [
    "# SQL"
   ]
  },
  {
   "cell_type": "code",
   "execution_count": null,
   "id": "42361452",
   "metadata": {},
   "outputs": [],
   "source": [
    "! pip install duckdb\n"
   ]
  },
  {
   "cell_type": "code",
   "execution_count": null,
   "id": "a1dd166f",
   "metadata": {
    "scrolled": true
   },
   "outputs": [],
   "source": [
    "import duckdb\n",
    "conn = duckdb.connect()\n"
   ]
  },
  {
   "cell_type": "code",
   "execution_count": null,
   "id": "bbafd48d",
   "metadata": {},
   "outputs": [],
   "source": [
    "# For SQL commands\n",
    "conn.register('dt',dt)"
   ]
  },
  {
   "cell_type": "code",
   "execution_count": null,
   "id": "8430be78",
   "metadata": {},
   "outputs": [],
   "source": [
    "conn.execute(\"select * from dt\").fetchdf()"
   ]
  },
  {
   "cell_type": "markdown",
   "id": "6dc42e45",
   "metadata": {},
   "source": [
    "# Questions:\n",
    "\n",
    "1. Find the number of corona patients who faced shortness of breath.\n",
    "\n",
    "2. Find the number of negative corona patients who have fever and sore_throat. \n",
    "\n",
    "3. Group the data by month and rank the number of positive cases.\n",
    "\n",
    "4. Find the female negative corona patients who faced cough and headache.\n",
    "\n",
    "5. How many elderly corona patients have faced breathing problems?\n",
    "\n",
    "6. Which three symptoms were more common among COVID positive patients?\n",
    "\n",
    "7. Which symptom was less common among COVID negative people?\n",
    "\n",
    "8. What are the most common symptoms among COVID positive males whose known contact was abroad? "
   ]
  },
  {
   "cell_type": "code",
   "execution_count": null,
   "id": "05b80c6a",
   "metadata": {},
   "outputs": [],
   "source": [
    "# 1. Find the number of corona patients who faced shortness of breath.\n",
    "conn.execute(\"SELECT COUNT(*) as Patients_with_shortness_of_breath FROM dt WHERE Shortness_of_breath=='TRUE'\").fetchdf()"
   ]
  },
  {
   "cell_type": "code",
   "execution_count": null,
   "id": "9f07276b",
   "metadata": {},
   "outputs": [],
   "source": [
    "# 2. Find the number of negative corona patients who have fever and sore_throat.\n",
    "conn.execute(\"SELECT COUNT() as Negative_patients FROM dt WHERE Fever == 'TRUE' and Sore_throat == 'TRUE' and Corona = 'NEGATIVE' \").fetchdf()"
   ]
  },
  {
   "cell_type": "code",
   "execution_count": null,
   "id": "8e6e17ab",
   "metadata": {},
   "outputs": [],
   "source": [
    "# 3. Group the data by month and rank the number of positive cases.\n",
    "conn.execute(\"SELECT COUNT(*) as Positive_cases, Month, RANK() OVER(order by COUNT(*) DESC) as Rank \\n\"\n",
    "\"FROM dt WHERE Corona = 'POSITIVE' \\n\"\n",
    "\"GROUP BY Month \\n\"\n",
    "\"ORDER BY Positive_cases DESC \\n\").fetchdf()"
   ]
  },
  {
   "cell_type": "code",
   "execution_count": null,
   "id": "6855d760",
   "metadata": {},
   "outputs": [],
   "source": [
    "# 4. Find the female negative corona patients who faced cough and headache.\n",
    "conn.execute(\" SELECT COUNT(*) as Female_Negative \\n\"\n",
    "            \" FROM dt \\n\"\n",
    "            \" WHERE Corona =='NEGATIVE' and Cough_symptoms =='TRUE' and Headache == 'TRUE'\").fetchdf()"
   ]
  },
  {
   "cell_type": "code",
   "execution_count": null,
   "id": "664a95fc",
   "metadata": {},
   "outputs": [],
   "source": [
    "# 5. How many elderly corona patients have faced breathing problems?\n",
    "conn.execute(\" SELECT COUNT(*) as Elderly_breathing_issues \\n\"\n",
    "             \" FROM dt \\n \"\n",
    "             \" WHERE Age_60_above == 'TRUE' and Shortness_of_breath == 'TRUE'  \\n \").fetchdf()"
   ]
  },
  {
   "cell_type": "code",
   "execution_count": null,
   "id": "4410f81e",
   "metadata": {},
   "outputs": [],
   "source": [
    "# 6. Which three symptoms were more common among COVID positive patients?\n",
    "conn.execute(\"\"\"\n",
    "    SELECT\n",
    "        SUM(CASE WHEN Cough_symptoms = 'TRUE' THEN 1 ELSE 0 END) as Cough_count,\n",
    "        SUM(CASE WHEN Fever = 'TRUE' THEN 1 ELSE 0 END) as Fever_count,\n",
    "        SUM(CASE WHEN Sore_throat = 'TRUE' THEN 1 ELSE 0 END) as Sore_throat_count,\n",
    "        SUM(CASE WHEN Shortness_of_breath = 'TRUE' THEN 1 ELSE 0 END) as Shortness_of_breath_count,\n",
    "        SUM(CASE WHEN Headache = 'TRUE' THEN 1 ELSE 0 END) as Headache_count\n",
    "    FROM dt\n",
    "    WHERE Corona = 'POSITIVE';\n",
    "\"\"\").fetchdf()"
   ]
  },
  {
   "cell_type": "code",
   "execution_count": null,
   "id": "fd063fcb",
   "metadata": {},
   "outputs": [],
   "source": [
    "# 7. Which symptom was less common among COVID negative people?\n",
    "conn.execute(\"\"\"\n",
    "    SELECT\n",
    "        SUM(CASE WHEN Cough_symptoms = 'TRUE' THEN 1 ELSE 0 END) as Cough_count,\n",
    "        SUM(CASE WHEN Fever = 'TRUE' THEN 1 ELSE 0 END) as Fever_count,\n",
    "        SUM(CASE WHEN Sore_throat = 'TRUE' THEN 1 ELSE 0 END) as Sore_throat_count,\n",
    "        SUM(CASE WHEN Shortness_of_breath = 'TRUE' THEN 1 ELSE 0 END) as Shortness_of_breath_count,\n",
    "        SUM(CASE WHEN Headache = 'TRUE' THEN 1 ELSE 0 END) as Headache_count\n",
    "    FROM dt\n",
    "    WHERE Corona = 'NEGATIVE';\n",
    "\"\"\").fetchdf()\n"
   ]
  },
  {
   "cell_type": "code",
   "execution_count": null,
   "id": "a932adfb",
   "metadata": {},
   "outputs": [],
   "source": [
    "# 8. What are the most common symptoms among COVID positive males whose known contact was abroad?\n",
    "conn.execute(\"\"\"\n",
    "    SELECT\n",
    "        SUM(CASE WHEN Cough_symptoms = 'TRUE' THEN 1 ELSE 0 END) as Cough_count,\n",
    "        SUM(CASE WHEN Fever = 'TRUE' THEN 1 ELSE 0 END) as Fever_count,\n",
    "        SUM(CASE WHEN Sore_throat = 'TRUE' THEN 1 ELSE 0 END) as Sore_throat_count,\n",
    "        SUM(CASE WHEN Shortness_of_breath = 'TRUE' THEN 1 ELSE 0 END) as Shortness_of_breath_count,\n",
    "        SUM(CASE WHEN Headache = 'TRUE' THEN 1 ELSE 0 END) as Headache_count\n",
    "    FROM dt\n",
    "    WHERE Corona == 'POSITIVE' and Sex == 'MALE' and Known_contact == 'ABROAD';\n",
    "\"\"\").fetchdf()"
   ]
  }
 ],
 "metadata": {
  "kernelspec": {
   "display_name": "Python 3 (ipykernel)",
   "language": "python",
   "name": "python3"
  },
  "language_info": {
   "codemirror_mode": {
    "name": "ipython",
    "version": 3
   },
   "file_extension": ".py",
   "mimetype": "text/x-python",
   "name": "python",
   "nbconvert_exporter": "python",
   "pygments_lexer": "ipython3",
   "version": "3.11.3"
  }
 },
 "nbformat": 4,
 "nbformat_minor": 5
}
